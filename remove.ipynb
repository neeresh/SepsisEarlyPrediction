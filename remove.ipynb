{
 "cells": [
  {
   "cell_type": "code",
   "execution_count": null,
   "id": "initial_id",
   "metadata": {
    "collapsed": true
   },
   "outputs": [],
   "source": [
    ""
   ]
  },
  {
   "metadata": {
    "ExecuteTime": {
     "end_time": "2024-06-30T03:39:01.983853Z",
     "start_time": "2024-06-30T03:39:01.966488Z"
    }
   },
   "cell_type": "code",
   "source": [
    "from torch.utils.data.distributed import DistributedSampler\n",
    "from torch.nn.parallel import DistributedDataParallel\n",
    "from torch.distributed import init_process_group, destroy_process_group\n",
    "\n",
    "import os\n",
    "import torch\n",
    "from torch.utils.data import Dataset, DataLoader, random_split\n",
    "\n",
    "\n",
    "# Dummy variables to make Pylance happy :D\n",
    "train_dataset = None\n",
    "local_rank = -1\n",
    "global_rank = -1\n",
    "num_epochs = 100\n",
    "step_number = 0\n",
    "last_step = False\n",
    "\n",
    "local_rank = int(os.environ['LOCAL_RANK'])\n",
    "global_rank = int(os.environ['RANK'])\n"
   ],
   "id": "370c4840dea8fd89",
   "outputs": [
    {
     "ename": "KeyError",
     "evalue": "'LOCAL_RANK'",
     "output_type": "error",
     "traceback": [
      "\u001B[0;31m---------------------------------------------------------------------------\u001B[0m",
      "\u001B[0;31mKeyError\u001B[0m                                  Traceback (most recent call last)",
      "Cell \u001B[0;32mIn[4], line 18\u001B[0m\n\u001B[1;32m     15\u001B[0m step_number \u001B[38;5;241m=\u001B[39m \u001B[38;5;241m0\u001B[39m\n\u001B[1;32m     16\u001B[0m last_step \u001B[38;5;241m=\u001B[39m \u001B[38;5;28;01mFalse\u001B[39;00m\n\u001B[0;32m---> 18\u001B[0m local_rank \u001B[38;5;241m=\u001B[39m \u001B[38;5;28mint\u001B[39m(\u001B[43mos\u001B[49m\u001B[38;5;241;43m.\u001B[39;49m\u001B[43menviron\u001B[49m\u001B[43m[\u001B[49m\u001B[38;5;124;43m'\u001B[39;49m\u001B[38;5;124;43mLOCAL_RANK\u001B[39;49m\u001B[38;5;124;43m'\u001B[39;49m\u001B[43m]\u001B[49m)\n\u001B[1;32m     19\u001B[0m global_rank \u001B[38;5;241m=\u001B[39m \u001B[38;5;28mint\u001B[39m(os\u001B[38;5;241m.\u001B[39menviron[\u001B[38;5;124m'\u001B[39m\u001B[38;5;124mRANK\u001B[39m\u001B[38;5;124m'\u001B[39m])\n",
      "File \u001B[0;32m<frozen os>:679\u001B[0m, in \u001B[0;36m__getitem__\u001B[0;34m(self, key)\u001B[0m\n",
      "\u001B[0;31mKeyError\u001B[0m: 'LOCAL_RANK'"
     ]
    }
   ],
   "execution_count": 4
  },
  {
   "metadata": {
    "ExecuteTime": {
     "end_time": "2024-06-30T03:38:42.472853Z",
     "start_time": "2024-06-30T03:38:42.472621Z"
    }
   },
   "cell_type": "code",
   "source": "",
   "id": "3af1df4344cae542",
   "outputs": [],
   "execution_count": null
  },
  {
   "metadata": {
    "ExecuteTime": {
     "end_time": "2024-06-30T03:38:42.473730Z",
     "start_time": "2024-06-30T03:38:42.473480Z"
    }
   },
   "cell_type": "code",
   "source": "",
   "id": "c87ed81273a3da5e",
   "outputs": [],
   "execution_count": null
  },
  {
   "metadata": {},
   "cell_type": "code",
   "source": "",
   "id": "8703a63f0fabe39d",
   "outputs": [],
   "execution_count": null
  },
  {
   "metadata": {},
   "cell_type": "code",
   "source": "",
   "id": "ba56976bebae5252",
   "outputs": [],
   "execution_count": null
  },
  {
   "metadata": {},
   "cell_type": "code",
   "outputs": [],
   "execution_count": null,
   "source": "",
   "id": "a7d1d5fa633bd773"
  }
 ],
 "metadata": {
  "kernelspec": {
   "display_name": "Python 3",
   "language": "python",
   "name": "python3"
  },
  "language_info": {
   "codemirror_mode": {
    "name": "ipython",
    "version": 2
   },
   "file_extension": ".py",
   "mimetype": "text/x-python",
   "name": "python",
   "nbconvert_exporter": "python",
   "pygments_lexer": "ipython2",
   "version": "2.7.6"
  }
 },
 "nbformat": 4,
 "nbformat_minor": 5
}
