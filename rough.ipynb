{
 "cells": [
  {
   "cell_type": "code",
   "id": "initial_id",
   "metadata": {
    "collapsed": true,
    "ExecuteTime": {
     "end_time": "2024-06-14T00:34:23.387740Z",
     "start_time": "2024-06-14T00:34:23.385356Z"
    }
   },
   "source": [
    "import numpy as np\n",
    "import pandas as pd\n",
    "from setup_data import DataSetup\n",
    "\n",
    "from train_gtn import GatedTransformerNetwork\n",
    "from utils.loader import make_loader"
   ],
   "execution_count": 10,
   "outputs": []
  },
  {
   "metadata": {
    "ExecuteTime": {
     "end_time": "2024-06-14T00:39:14.697846Z",
     "start_time": "2024-06-14T00:39:14.693839Z"
    }
   },
   "cell_type": "code",
   "source": [
    "is_sepsis_file = pd.read_csv('./data/processed/is_sepsis.txt')\n",
    "train, test = train_test_split(is_sepsis_file, test_size=0.2, random_state=42)\n",
    "train_indicies = train.index.values\n",
    "test_indicies = test.index.values"
   ],
   "id": "12f889adff505e7a",
   "execution_count": 27,
   "outputs": []
  },
  {
   "metadata": {
    "ExecuteTime": {
     "end_time": "2024-06-14T00:39:33.621269Z",
     "start_time": "2024-06-14T00:39:33.619919Z"
    }
   },
   "cell_type": "code",
   "source": "",
   "id": "eb89954ffc18ac78",
   "execution_count": 30,
   "outputs": []
  },
  {
   "metadata": {},
   "cell_type": "code",
   "execution_count": null,
   "source": "",
   "id": "dc1bcddd5e050bc5",
   "outputs": []
  },
  {
   "metadata": {},
   "cell_type": "code",
   "execution_count": null,
   "source": "",
   "id": "37ace224e9262607",
   "outputs": []
  },
  {
   "metadata": {},
   "cell_type": "code",
   "execution_count": null,
   "source": "",
   "id": "dac22fc92005c027",
   "outputs": []
  },
  {
   "metadata": {},
   "cell_type": "code",
   "execution_count": null,
   "source": "",
   "id": "aa130c9cf8eed326",
   "outputs": []
  }
 ],
 "metadata": {
  "kernelspec": {
   "display_name": "Python 3",
   "language": "python",
   "name": "python3"
  },
  "language_info": {
   "codemirror_mode": {
    "name": "ipython",
    "version": 2
   },
   "file_extension": ".py",
   "mimetype": "text/x-python",
   "name": "python",
   "nbconvert_exporter": "python",
   "pygments_lexer": "ipython2",
   "version": "2.7.6"
  }
 },
 "nbformat": 4,
 "nbformat_minor": 5
}
