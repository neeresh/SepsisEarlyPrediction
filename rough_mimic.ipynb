{
 "cells": [
  {
   "cell_type": "code",
   "id": "initial_id",
   "metadata": {
    "collapsed": true,
    "ExecuteTime": {
     "end_time": "2024-10-02T02:48:08.927472Z",
     "start_time": "2024-10-02T02:48:08.925840Z"
    }
   },
   "source": [
    ""
   ],
   "outputs": [],
   "execution_count": null
  },
  {
   "metadata": {
    "ExecuteTime": {
     "end_time": "2024-10-02T02:48:08.936578Z",
     "start_time": "2024-10-02T02:48:08.935244Z"
    }
   },
   "cell_type": "code",
   "source": "",
   "id": "f9062cf487f54526",
   "outputs": [],
   "execution_count": null
  },
  {
   "metadata": {
    "ExecuteTime": {
     "end_time": "2024-10-02T02:48:08.938536Z",
     "start_time": "2024-10-02T02:48:08.937219Z"
    }
   },
   "cell_type": "code",
   "source": "",
   "id": "f3887f5f49e2832f",
   "outputs": [],
   "execution_count": null
  },
  {
   "metadata": {
    "ExecuteTime": {
     "end_time": "2024-10-02T02:48:08.940435Z",
     "start_time": "2024-10-02T02:48:08.939152Z"
    }
   },
   "cell_type": "code",
   "source": "",
   "id": "1d47d3da1bcc6c30",
   "outputs": [],
   "execution_count": null
  },
  {
   "metadata": {
    "ExecuteTime": {
     "end_time": "2024-10-02T02:48:08.942503Z",
     "start_time": "2024-10-02T02:48:08.941033Z"
    }
   },
   "cell_type": "code",
   "source": "",
   "id": "1f0a22f58118635b",
   "outputs": [],
   "execution_count": null
  },
  {
   "metadata": {},
   "cell_type": "code",
   "outputs": [],
   "execution_count": null,
   "source": "",
   "id": "45b025a03aecb39e"
  }
 ],
 "metadata": {
  "kernelspec": {
   "display_name": "Python 3",
   "language": "python",
   "name": "python3"
  },
  "language_info": {
   "codemirror_mode": {
    "name": "ipython",
    "version": 2
   },
   "file_extension": ".py",
   "mimetype": "text/x-python",
   "name": "python",
   "nbconvert_exporter": "python",
   "pygments_lexer": "ipython2",
   "version": "2.7.6"
  }
 },
 "nbformat": 4,
 "nbformat_minor": 5
}
