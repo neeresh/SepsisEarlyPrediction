{
 "cells": [
  {
   "cell_type": "code",
   "id": "initial_id",
   "metadata": {
    "collapsed": true,
    "ExecuteTime": {
     "end_time": "2024-09-17T06:21:48.367206Z",
     "start_time": "2024-09-17T06:21:48.365425Z"
    }
   },
   "source": [
    ""
   ],
   "outputs": [],
   "execution_count": null
  },
  {
   "metadata": {
    "ExecuteTime": {
     "end_time": "2024-09-17T06:21:48.369608Z",
     "start_time": "2024-09-17T06:21:48.368130Z"
    }
   },
   "cell_type": "code",
   "source": "",
   "id": "ef48d84aef2a448c",
   "outputs": [],
   "execution_count": null
  },
  {
   "metadata": {
    "ExecuteTime": {
     "end_time": "2024-09-17T06:32:49.544409Z",
     "start_time": "2024-09-17T06:32:48.479202Z"
    }
   },
   "cell_type": "code",
   "source": [
    "import pandas as pd\n",
    "\n",
    "from utils.path_utils import project_root\n",
    "import os\n",
    "\n",
    "lengths_path = os.path.join(project_root(), 'data', 'tl_datasets', 'finetune', 'lengths.txt')\n",
    "sepsis_path = os.path.join(project_root(), 'data', 'tl_datasets', 'finetune', 'is_sepsis.txt')\n"
   ],
   "id": "9d07fdcac0fc3abb",
   "outputs": [],
   "execution_count": 7
  },
  {
   "metadata": {
    "ExecuteTime": {
     "end_time": "2024-09-17T06:32:50.289063Z",
     "start_time": "2024-09-17T06:32:50.287430Z"
    }
   },
   "cell_type": "code",
   "source": "",
   "id": "99bae0d0f33f0172",
   "outputs": [],
   "execution_count": 7
  },
  {
   "metadata": {
    "ExecuteTime": {
     "end_time": "2024-09-17T06:55:16.399562Z",
     "start_time": "2024-09-17T06:54:57.586597Z"
    }
   },
   "cell_type": "code",
   "source": [
    "import tqdm\n",
    "\n",
    "pt_pickle = pd.read_pickle(os.path.join(project_root(), 'data', 'tl_datasets', 'final_dataset_pretrain_A.pickle'))\n",
    "\n",
    "pt_files = []\n",
    "for pdata in tqdm.tqdm(pt_pickle, desc='Preparing pretraining dataset', total=len(pt_pickle)):\n",
    "    pt_files.append(pdata)\n",
    "\n",
    "pt_lengths = pd.read_csv(os.path.join(project_root(), 'data', 'tl_datasets', 'lengths_pretrain_A.txt'), header=None).values\n",
    "pt_sepsis = pd.read_csv(os.path.join(project_root(), 'data', 'tl_datasets', 'is_sepsis_pretrain_A.txt'), header=None).values\n"
   ],
   "id": "ded57acedc79bdd6",
   "outputs": [
    {
     "name": "stderr",
     "output_type": "stream",
     "text": [
      "Preparing pretraining dataset: 100%|██████████| 20336/20336 [00:00<00:00, 964214.36it/s]\n"
     ]
    }
   ],
   "execution_count": 37
  },
  {
   "metadata": {
    "ExecuteTime": {
     "end_time": "2024-09-17T06:55:30.315236Z",
     "start_time": "2024-09-17T06:55:30.313516Z"
    }
   },
   "cell_type": "code",
   "source": "",
   "id": "6e64f23e844939a4",
   "outputs": [],
   "execution_count": 42
  },
  {
   "metadata": {
    "ExecuteTime": {
     "end_time": "2024-09-17T06:55:16.443325Z",
     "start_time": "2024-09-17T06:55:16.404260Z"
    }
   },
   "cell_type": "code",
   "source": "len(pt_files), len(pt_lengths), len(pt_sepsis)",
   "id": "94f5678beacd2870",
   "outputs": [
    {
     "data": {
      "text/plain": [
       "(20336, 20336, 20336)"
      ]
     },
     "execution_count": 39,
     "metadata": {},
     "output_type": "execute_result"
    }
   ],
   "execution_count": 39
  },
  {
   "metadata": {
    "ExecuteTime": {
     "end_time": "2024-09-17T06:56:19.571819Z",
     "start_time": "2024-09-17T06:56:19.490322Z"
    }
   },
   "cell_type": "code",
   "source": [
    "import torch\n",
    "\n",
    "ft_files = torch.load(os.path.join(project_root(), 'data', 'tl_datasets', 'finetune', 'finetune.pt'))['samples']\n",
    "ft_lengths = pd.read_csv(os.path.join(project_root(), 'data', 'tl_datasets', 'finetune', 'lengths.txt'), header=None)\n",
    "ft_sepsis = pd.read_csv(os.path.join(project_root(), 'data', 'tl_datasets', 'finetune', 'is_sepsis.txt'), header=None)\n"
   ],
   "id": "625f2785583ce345",
   "outputs": [],
   "execution_count": 44
  },
  {
   "metadata": {
    "ExecuteTime": {
     "end_time": "2024-09-17T06:56:23.483652Z",
     "start_time": "2024-09-17T06:56:23.480604Z"
    }
   },
   "cell_type": "code",
   "source": "ft_files[0].shape",
   "id": "c4298a2e03fa4e77",
   "outputs": [
    {
     "data": {
      "text/plain": [
       "torch.Size([336, 40])"
      ]
     },
     "execution_count": 46,
     "metadata": {},
     "output_type": "execute_result"
    }
   ],
   "execution_count": 46
  },
  {
   "metadata": {
    "ExecuteTime": {
     "end_time": "2024-09-17T06:44:24.429877Z",
     "start_time": "2024-09-17T06:44:24.428244Z"
    }
   },
   "cell_type": "code",
   "source": "",
   "id": "6a4288eb7969f98d",
   "outputs": [],
   "execution_count": 30
  },
  {
   "metadata": {
    "ExecuteTime": {
     "end_time": "2024-09-17T06:57:10.380360Z",
     "start_time": "2024-09-17T06:57:10.374801Z"
    }
   },
   "cell_type": "code",
   "source": "pd.read_csv(os.path.join(project_root(), 'data', 'tl_datasets', 'lengths_pretrain_A.txt'), header=None).values.squeeze()",
   "id": "cf9429eab5ef49c5",
   "outputs": [
    {
     "data": {
      "text/plain": [
       "array([54, 23, 48, ..., 21, 42, 33])"
      ]
     },
     "execution_count": 49,
     "metadata": {},
     "output_type": "execute_result"
    }
   ],
   "execution_count": 49
  },
  {
   "metadata": {},
   "cell_type": "code",
   "outputs": [],
   "execution_count": null,
   "source": "",
   "id": "8883c5fc51d68980"
  },
  {
   "metadata": {},
   "cell_type": "markdown",
   "source": "# Simmtm GTN Backbone Summary",
   "id": "a1dffded06af6f4d"
  },
  {
   "metadata": {
    "ExecuteTime": {
     "end_time": "2024-09-17T06:22:05.123864Z",
     "start_time": "2024-09-17T06:21:48.386371Z"
    }
   },
   "cell_type": "code",
   "source": [
    "from models.simmtm.model import TFC\n",
    "from models.simmtm.config import Config\n",
    "from utils.pretrain_utils.get_args import get_args\n",
    "from torchinfo import summary \n",
    "\n",
    "# Gathering args and configs\n",
    "args, unknown = get_args()\n",
    "config = Config()\n",
    "model = TFC(configs=config, args=args)\n",
    "\n",
    "summary(model)\n"
   ],
   "id": "2a894e982f68cb24",
   "outputs": [
    {
     "data": {
      "text/plain": [
       "=================================================================\n",
       "Layer (type:depth-idx)                   Param #\n",
       "=================================================================\n",
       "TFC                                      --\n",
       "├─ModuleList: 1-1                        --\n",
       "│    └─Encoder: 2-1                      --\n",
       "│    │    └─MultiHeadAttention: 3-1      131,776\n",
       "│    │    └─FeedForward: 3-2             1,050,112\n",
       "│    │    └─Dropout: 3-3                 --\n",
       "│    │    └─LayerNorm: 3-4               1,024\n",
       "│    │    └─LayerNorm: 3-5               1,024\n",
       "│    └─Encoder: 2-2                      --\n",
       "│    │    └─MultiHeadAttention: 3-6      131,776\n",
       "│    │    └─FeedForward: 3-7             1,050,112\n",
       "│    │    └─Dropout: 3-8                 --\n",
       "│    │    └─LayerNorm: 3-9               1,024\n",
       "│    │    └─LayerNorm: 3-10              1,024\n",
       "│    └─Encoder: 2-3                      --\n",
       "│    │    └─MultiHeadAttention: 3-11     131,776\n",
       "│    │    └─FeedForward: 3-12            1,050,112\n",
       "│    │    └─Dropout: 3-13                --\n",
       "│    │    └─LayerNorm: 3-14              1,024\n",
       "│    │    └─LayerNorm: 3-15              1,024\n",
       "│    └─Encoder: 2-4                      --\n",
       "│    │    └─MultiHeadAttention: 3-16     131,776\n",
       "│    │    └─FeedForward: 3-17            1,050,112\n",
       "│    │    └─Dropout: 3-18                --\n",
       "│    │    └─LayerNorm: 3-19              1,024\n",
       "│    │    └─LayerNorm: 3-20              1,024\n",
       "│    └─Encoder: 2-5                      --\n",
       "│    │    └─MultiHeadAttention: 3-21     131,776\n",
       "│    │    └─FeedForward: 3-22            1,050,112\n",
       "│    │    └─Dropout: 3-23                --\n",
       "│    │    └─LayerNorm: 3-24              1,024\n",
       "│    │    └─LayerNorm: 3-25              1,024\n",
       "│    └─Encoder: 2-6                      --\n",
       "│    │    └─MultiHeadAttention: 3-26     131,776\n",
       "│    │    └─FeedForward: 3-27            1,050,112\n",
       "│    │    └─Dropout: 3-28                --\n",
       "│    │    └─LayerNorm: 3-29              1,024\n",
       "│    │    └─LayerNorm: 3-30              1,024\n",
       "│    └─Encoder: 2-7                      --\n",
       "│    │    └─MultiHeadAttention: 3-31     131,776\n",
       "│    │    └─FeedForward: 3-32            1,050,112\n",
       "│    │    └─Dropout: 3-33                --\n",
       "│    │    └─LayerNorm: 3-34              1,024\n",
       "│    │    └─LayerNorm: 3-35              1,024\n",
       "│    └─Encoder: 2-8                      --\n",
       "│    │    └─MultiHeadAttention: 3-36     131,776\n",
       "│    │    └─FeedForward: 3-37            1,050,112\n",
       "│    │    └─Dropout: 3-38                --\n",
       "│    │    └─LayerNorm: 3-39              1,024\n",
       "│    │    └─LayerNorm: 3-40              1,024\n",
       "├─ModuleList: 1-2                        --\n",
       "│    └─Encoder: 2-9                      --\n",
       "│    │    └─MultiHeadAttention: 3-41     131,776\n",
       "│    │    └─FeedForward: 3-42            1,050,112\n",
       "│    │    └─Dropout: 3-43                --\n",
       "│    │    └─LayerNorm: 3-44              1,024\n",
       "│    │    └─LayerNorm: 3-45              1,024\n",
       "│    └─Encoder: 2-10                     --\n",
       "│    │    └─MultiHeadAttention: 3-46     131,776\n",
       "│    │    └─FeedForward: 3-47            1,050,112\n",
       "│    │    └─Dropout: 3-48                --\n",
       "│    │    └─LayerNorm: 3-49              1,024\n",
       "│    │    └─LayerNorm: 3-50              1,024\n",
       "│    └─Encoder: 2-11                     --\n",
       "│    │    └─MultiHeadAttention: 3-51     131,776\n",
       "│    │    └─FeedForward: 3-52            1,050,112\n",
       "│    │    └─Dropout: 3-53                --\n",
       "│    │    └─LayerNorm: 3-54              1,024\n",
       "│    │    └─LayerNorm: 3-55              1,024\n",
       "│    └─Encoder: 2-12                     --\n",
       "│    │    └─MultiHeadAttention: 3-56     131,776\n",
       "│    │    └─FeedForward: 3-57            1,050,112\n",
       "│    │    └─Dropout: 3-58                --\n",
       "│    │    └─LayerNorm: 3-59              1,024\n",
       "│    │    └─LayerNorm: 3-60              1,024\n",
       "│    └─Encoder: 2-13                     --\n",
       "│    │    └─MultiHeadAttention: 3-61     131,776\n",
       "│    │    └─FeedForward: 3-62            1,050,112\n",
       "│    │    └─Dropout: 3-63                --\n",
       "│    │    └─LayerNorm: 3-64              1,024\n",
       "│    │    └─LayerNorm: 3-65              1,024\n",
       "│    └─Encoder: 2-14                     --\n",
       "│    │    └─MultiHeadAttention: 3-66     131,776\n",
       "│    │    └─FeedForward: 3-67            1,050,112\n",
       "│    │    └─Dropout: 3-68                --\n",
       "│    │    └─LayerNorm: 3-69              1,024\n",
       "│    │    └─LayerNorm: 3-70              1,024\n",
       "│    └─Encoder: 2-15                     --\n",
       "│    │    └─MultiHeadAttention: 3-71     131,776\n",
       "│    │    └─FeedForward: 3-72            1,050,112\n",
       "│    │    └─Dropout: 3-73                --\n",
       "│    │    └─LayerNorm: 3-74              1,024\n",
       "│    │    └─LayerNorm: 3-75              1,024\n",
       "│    └─Encoder: 2-16                     --\n",
       "│    │    └─MultiHeadAttention: 3-76     131,776\n",
       "│    │    └─FeedForward: 3-77            1,050,112\n",
       "│    │    └─Dropout: 3-78                --\n",
       "│    │    └─LayerNorm: 3-79              1,024\n",
       "│    │    └─LayerNorm: 3-80              1,024\n",
       "├─Linear: 1-3                            20,992\n",
       "├─Linear: 1-4                            172,544\n",
       "├─Linear: 1-5                            385,026\n",
       "├─AutomaticWeightedLoss: 1-6             2\n",
       "├─ContrastiveWeight: 1-7                 --\n",
       "│    └─BCELoss: 2-17                     --\n",
       "│    └─Softmax: 2-18                     --\n",
       "│    └─LogSoftmax: 2-19                  --\n",
       "│    └─KLDivLoss: 2-20                   --\n",
       "├─AggregationRebuild: 1-8                --\n",
       "│    └─Softmax: 2-21                     --\n",
       "│    └─MSELoss: 2-22                     --\n",
       "├─Linear: 1-9                            2,587,374,720\n",
       "├─MSELoss: 1-10                          --\n",
       "=================================================================\n",
       "Total params: 2,606,896,260\n",
       "Trainable params: 2,606,896,260\n",
       "Non-trainable params: 0\n",
       "================================================================="
      ]
     },
     "execution_count": 2,
     "metadata": {},
     "output_type": "execute_result"
    }
   ],
   "execution_count": 2
  },
  {
   "metadata": {
    "ExecuteTime": {
     "end_time": "2024-09-17T06:22:05.126535Z",
     "start_time": "2024-09-17T06:22:05.124836Z"
    }
   },
   "cell_type": "code",
   "source": "",
   "id": "be1ffff227610fda",
   "outputs": [],
   "execution_count": 2
  },
  {
   "metadata": {},
   "cell_type": "markdown",
   "source": "# GTN Backbone Summary",
   "id": "6c3ec1195d50cb2a"
  },
  {
   "metadata": {
    "ExecuteTime": {
     "end_time": "2024-09-17T06:23:11.076519Z",
     "start_time": "2024-09-17T06:23:10.943194Z"
    }
   },
   "cell_type": "code",
   "source": [
    "from models.gtn.config import Config\n",
    "from models.gtn.transformer import Transformer\n",
    "\n",
    "config = Config()\n",
    "\n",
    "# Model\n",
    "model = Transformer(d_model=config.d_model, d_input=config.d_input,\n",
    "                    d_channel=config.d_channel, d_output=config.d_output,\n",
    "                    d_hidden=config.d_hidden, q=config.q, v=config.v,\n",
    "                    h=config.h, N=config.N, device=config.device,\n",
    "                    dropout=config.dropout, pe=config.pe, mask=config.mask)\n",
    "\n",
    "summary(model)\n"
   ],
   "id": "a6be74f119c1b105",
   "outputs": [
    {
     "data": {
      "text/plain": [
       "=================================================================\n",
       "Layer (type:depth-idx)                   Param #\n",
       "=================================================================\n",
       "Transformer                              --\n",
       "├─ModuleList: 1-1                        --\n",
       "│    └─Encoder: 2-1                      --\n",
       "│    │    └─MultiHeadAttention: 3-1      131,776\n",
       "│    │    └─FeedForward: 3-2             1,050,112\n",
       "│    │    └─Dropout: 3-3                 --\n",
       "│    │    └─LayerNorm: 3-4               1,024\n",
       "│    │    └─LayerNorm: 3-5               1,024\n",
       "│    └─Encoder: 2-2                      --\n",
       "│    │    └─MultiHeadAttention: 3-6      131,776\n",
       "│    │    └─FeedForward: 3-7             1,050,112\n",
       "│    │    └─Dropout: 3-8                 --\n",
       "│    │    └─LayerNorm: 3-9               1,024\n",
       "│    │    └─LayerNorm: 3-10              1,024\n",
       "│    └─Encoder: 2-3                      --\n",
       "│    │    └─MultiHeadAttention: 3-11     131,776\n",
       "│    │    └─FeedForward: 3-12            1,050,112\n",
       "│    │    └─Dropout: 3-13                --\n",
       "│    │    └─LayerNorm: 3-14              1,024\n",
       "│    │    └─LayerNorm: 3-15              1,024\n",
       "│    └─Encoder: 2-4                      --\n",
       "│    │    └─MultiHeadAttention: 3-16     131,776\n",
       "│    │    └─FeedForward: 3-17            1,050,112\n",
       "│    │    └─Dropout: 3-18                --\n",
       "│    │    └─LayerNorm: 3-19              1,024\n",
       "│    │    └─LayerNorm: 3-20              1,024\n",
       "│    └─Encoder: 2-5                      --\n",
       "│    │    └─MultiHeadAttention: 3-21     131,776\n",
       "│    │    └─FeedForward: 3-22            1,050,112\n",
       "│    │    └─Dropout: 3-23                --\n",
       "│    │    └─LayerNorm: 3-24              1,024\n",
       "│    │    └─LayerNorm: 3-25              1,024\n",
       "│    └─Encoder: 2-6                      --\n",
       "│    │    └─MultiHeadAttention: 3-26     131,776\n",
       "│    │    └─FeedForward: 3-27            1,050,112\n",
       "│    │    └─Dropout: 3-28                --\n",
       "│    │    └─LayerNorm: 3-29              1,024\n",
       "│    │    └─LayerNorm: 3-30              1,024\n",
       "│    └─Encoder: 2-7                      --\n",
       "│    │    └─MultiHeadAttention: 3-31     131,776\n",
       "│    │    └─FeedForward: 3-32            1,050,112\n",
       "│    │    └─Dropout: 3-33                --\n",
       "│    │    └─LayerNorm: 3-34              1,024\n",
       "│    │    └─LayerNorm: 3-35              1,024\n",
       "│    └─Encoder: 2-8                      --\n",
       "│    │    └─MultiHeadAttention: 3-36     131,776\n",
       "│    │    └─FeedForward: 3-37            1,050,112\n",
       "│    │    └─Dropout: 3-38                --\n",
       "│    │    └─LayerNorm: 3-39              1,024\n",
       "│    │    └─LayerNorm: 3-40              1,024\n",
       "├─ModuleList: 1-2                        --\n",
       "│    └─Encoder: 2-9                      --\n",
       "│    │    └─MultiHeadAttention: 3-41     131,776\n",
       "│    │    └─FeedForward: 3-42            1,050,112\n",
       "│    │    └─Dropout: 3-43                --\n",
       "│    │    └─LayerNorm: 3-44              1,024\n",
       "│    │    └─LayerNorm: 3-45              1,024\n",
       "│    └─Encoder: 2-10                     --\n",
       "│    │    └─MultiHeadAttention: 3-46     131,776\n",
       "│    │    └─FeedForward: 3-47            1,050,112\n",
       "│    │    └─Dropout: 3-48                --\n",
       "│    │    └─LayerNorm: 3-49              1,024\n",
       "│    │    └─LayerNorm: 3-50              1,024\n",
       "│    └─Encoder: 2-11                     --\n",
       "│    │    └─MultiHeadAttention: 3-51     131,776\n",
       "│    │    └─FeedForward: 3-52            1,050,112\n",
       "│    │    └─Dropout: 3-53                --\n",
       "│    │    └─LayerNorm: 3-54              1,024\n",
       "│    │    └─LayerNorm: 3-55              1,024\n",
       "│    └─Encoder: 2-12                     --\n",
       "│    │    └─MultiHeadAttention: 3-56     131,776\n",
       "│    │    └─FeedForward: 3-57            1,050,112\n",
       "│    │    └─Dropout: 3-58                --\n",
       "│    │    └─LayerNorm: 3-59              1,024\n",
       "│    │    └─LayerNorm: 3-60              1,024\n",
       "│    └─Encoder: 2-13                     --\n",
       "│    │    └─MultiHeadAttention: 3-61     131,776\n",
       "│    │    └─FeedForward: 3-62            1,050,112\n",
       "│    │    └─Dropout: 3-63                --\n",
       "│    │    └─LayerNorm: 3-64              1,024\n",
       "│    │    └─LayerNorm: 3-65              1,024\n",
       "│    └─Encoder: 2-14                     --\n",
       "│    │    └─MultiHeadAttention: 3-66     131,776\n",
       "│    │    └─FeedForward: 3-67            1,050,112\n",
       "│    │    └─Dropout: 3-68                --\n",
       "│    │    └─LayerNorm: 3-69              1,024\n",
       "│    │    └─LayerNorm: 3-70              1,024\n",
       "│    └─Encoder: 2-15                     --\n",
       "│    │    └─MultiHeadAttention: 3-71     131,776\n",
       "│    │    └─FeedForward: 3-72            1,050,112\n",
       "│    │    └─Dropout: 3-73                --\n",
       "│    │    └─LayerNorm: 3-74              1,024\n",
       "│    │    └─LayerNorm: 3-75              1,024\n",
       "│    └─Encoder: 2-16                     --\n",
       "│    │    └─MultiHeadAttention: 3-76     131,776\n",
       "│    │    └─FeedForward: 3-77            1,050,112\n",
       "│    │    └─Dropout: 3-78                --\n",
       "│    │    └─LayerNorm: 3-79              1,024\n",
       "│    │    └─LayerNorm: 3-80              1,024\n",
       "├─Linear: 1-3                            20,992\n",
       "├─Linear: 1-4                            172,544\n",
       "├─Linear: 1-5                            385,026\n",
       "├─Linear: 1-6                            385,026\n",
       "=================================================================\n",
       "Total params: 19,906,564\n",
       "Trainable params: 19,906,564\n",
       "Non-trainable params: 0\n",
       "================================================================="
      ]
     },
     "execution_count": 5,
     "metadata": {},
     "output_type": "execute_result"
    }
   ],
   "execution_count": 5
  },
  {
   "metadata": {
    "ExecuteTime": {
     "end_time": "2024-09-17T06:22:05.269666Z",
     "start_time": "2024-09-17T06:22:05.268189Z"
    }
   },
   "cell_type": "code",
   "source": "",
   "id": "b6db9b40ff2dfa49",
   "outputs": [],
   "execution_count": 3
  },
  {
   "metadata": {
    "ExecuteTime": {
     "end_time": "2024-09-17T06:22:05.271746Z",
     "start_time": "2024-09-17T06:22:05.270354Z"
    }
   },
   "cell_type": "code",
   "source": "",
   "id": "64a2e815faf39ecf",
   "outputs": [],
   "execution_count": 3
  },
  {
   "metadata": {
    "ExecuteTime": {
     "end_time": "2024-09-17T06:22:05.273879Z",
     "start_time": "2024-09-17T06:22:05.272399Z"
    }
   },
   "cell_type": "code",
   "source": "",
   "id": "2a05ff7ffe185c51",
   "outputs": [],
   "execution_count": 3
  }
 ],
 "metadata": {
  "kernelspec": {
   "display_name": "Python 3",
   "language": "python",
   "name": "python3"
  },
  "language_info": {
   "codemirror_mode": {
    "name": "ipython",
    "version": 2
   },
   "file_extension": ".py",
   "mimetype": "text/x-python",
   "name": "python",
   "nbconvert_exporter": "python",
   "pygments_lexer": "ipython2",
   "version": "2.7.6"
  }
 },
 "nbformat": 4,
 "nbformat_minor": 5
}
