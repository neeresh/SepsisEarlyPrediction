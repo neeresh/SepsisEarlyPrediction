{
 "cells": [
  {
   "cell_type": "code",
   "id": "initial_id",
   "metadata": {
    "collapsed": true,
    "ExecuteTime": {
     "end_time": "2024-09-18T17:35:45.101260Z",
     "start_time": "2024-09-18T17:35:44.803699Z"
    }
   },
   "source": "!sbatch eval_simmtm.job",
   "execution_count": 2,
   "outputs": []
  },
  {
   "metadata": {
    "ExecuteTime": {
     "end_time": "2024-09-17T06:21:48.369608Z",
     "start_time": "2024-09-17T06:21:48.368130Z"
    }
   },
   "cell_type": "code",
   "source": "",
   "id": "ef48d84aef2a448c",
   "execution_count": null,
   "outputs": []
  },
  {
   "metadata": {
    "ExecuteTime": {
     "end_time": "2024-09-17T17:08:35.037504Z",
     "start_time": "2024-09-17T17:08:32.359390Z"
    }
   },
   "cell_type": "code",
   "source": [
    "import pandas as pd\n",
    "\n",
    "from utils.path_utils import project_root\n",
    "import os\n",
    "\n",
    "import torch\n",
    "\n",
    "lengths_path = os.path.join(project_root(), 'data', 'tl_datasets', 'finetune', 'lengths.txt')\n",
    "sepsis_path = os.path.join(project_root(), 'data', 'tl_datasets', 'finetune', 'is_sepsis.txt')\n"
   ],
   "id": "9d07fdcac0fc3abb",
   "execution_count": 2,
   "outputs": []
  },
  {
   "metadata": {
    "ExecuteTime": {
     "end_time": "2024-09-17T17:08:35.134804Z",
     "start_time": "2024-09-17T17:08:35.038735Z"
    }
   },
   "cell_type": "code",
   "source": "ft_files = torch.load(os.path.join(project_root(), 'data', 'tl_datasets', 'finetune', 'finetune.pt'))['samples']\n",
   "id": "99bae0d0f33f0172",
   "execution_count": 3,
   "outputs": []
  },
  {
   "metadata": {
    "ExecuteTime": {
     "end_time": "2024-09-17T17:08:45.364209Z",
     "start_time": "2024-09-17T17:08:45.360845Z"
    }
   },
   "cell_type": "code",
   "source": "type(ft_files), ft_files.shape",
   "id": "7f3985cdfd7c55c4",
   "execution_count": 5,
   "outputs": []
  },
  {
   "metadata": {
    "ExecuteTime": {
     "end_time": "2024-09-17T17:11:45.031230Z",
     "start_time": "2024-09-17T17:11:45.027138Z"
    }
   },
   "cell_type": "code",
   "source": "pd.read_csv(sepsis_path, header=None).values.squeeze()",
   "id": "3891f16640aebc8d",
   "execution_count": 9,
   "outputs": []
  },
  {
   "metadata": {
    "ExecuteTime": {
     "end_time": "2024-09-17T17:11:39.877022Z",
     "start_time": "2024-09-17T17:11:39.872493Z"
    }
   },
   "cell_type": "code",
   "source": "pd.read_csv(lengths_path, header=None).values.squeeze()",
   "id": "f3281767fe5f74d8",
   "execution_count": 8,
   "outputs": []
  },
  {
   "metadata": {},
   "cell_type": "code",
   "execution_count": null,
   "source": "",
   "id": "f01891008a3970b6",
   "outputs": []
  },
  {
   "metadata": {
    "ExecuteTime": {
     "end_time": "2024-09-17T17:13:55.593919Z",
     "start_time": "2024-09-17T17:13:55.590972Z"
    }
   },
   "cell_type": "code",
   "source": [
    "from torch.utils.data import Dataset\n",
    "\n",
    "\n",
    "class FinetuneDataset(Dataset):\n",
    "    def __init__(self, data_tensor, labels):\n",
    "        self.data = data_tensor\n",
    "        self.labels = torch.tensor(labels, dtype=torch.float32)\n",
    "\n",
    "    def __len__(self):\n",
    "        return self.data.shape[0]\n",
    "\n",
    "    def __getitem__(self, idx):\n",
    "        sample = self.data[idx]\n",
    "        label = self.labels[idx]\n",
    "        return sample, label\n",
    "    "
   ],
   "id": "3aff88c598d673a6",
   "execution_count": 15,
   "outputs": []
  },
  {
   "metadata": {
    "ExecuteTime": {
     "end_time": "2024-09-17T17:13:55.739618Z",
     "start_time": "2024-09-17T17:13:55.737857Z"
    }
   },
   "cell_type": "code",
   "source": "",
   "id": "33390c1005c17cf1",
   "execution_count": 15,
   "outputs": []
  },
  {
   "metadata": {
    "ExecuteTime": {
     "end_time": "2024-09-17T17:14:45.164808Z",
     "start_time": "2024-09-17T17:14:45.160470Z"
    }
   },
   "cell_type": "code",
   "source": [
    "from torch.utils.data import DataLoader\n",
    "\n",
    "# Create the dataset\n",
    "dataset = FinetuneDataset(ft_files, pd.read_csv(sepsis_path, header=None).values.squeeze())\n",
    "\n",
    "# Create a DataLoader\n",
    "dataloader = DataLoader(dataset, batch_size=32, shuffle=True)\n"
   ],
   "id": "76a6af334bde87a7",
   "execution_count": 27,
   "outputs": []
  },
  {
   "metadata": {
    "ExecuteTime": {
     "end_time": "2024-09-17T17:14:45.923938Z",
     "start_time": "2024-09-17T17:14:45.920698Z"
    }
   },
   "cell_type": "code",
   "source": [
    "for i, j in dataloader:\n",
    "    break"
   ],
   "id": "5aac6c4f00faad9c",
   "execution_count": 28,
   "outputs": []
  },
  {
   "metadata": {
    "ExecuteTime": {
     "end_time": "2024-09-17T17:14:46.610002Z",
     "start_time": "2024-09-17T17:14:46.606855Z"
    }
   },
   "cell_type": "code",
   "source": "j",
   "id": "d32eab5a24da51ca",
   "execution_count": 29,
   "outputs": []
  },
  {
   "metadata": {
    "ExecuteTime": {
     "end_time": "2024-09-17T17:15:06.210009Z",
     "start_time": "2024-09-17T17:15:06.208284Z"
    }
   },
   "cell_type": "code",
   "source": "",
   "id": "51a259b91adcd603",
   "execution_count": 30,
   "outputs": []
  },
  {
   "metadata": {},
   "cell_type": "code",
   "execution_count": null,
   "source": "",
   "id": "55a1d8163a112178",
   "outputs": []
  },
  {
   "metadata": {
    "ExecuteTime": {
     "end_time": "2024-09-17T06:55:16.399562Z",
     "start_time": "2024-09-17T06:54:57.586597Z"
    }
   },
   "cell_type": "code",
   "source": [
    "import tqdm\n",
    "\n",
    "pt_pickle = pd.read_pickle(os.path.join(project_root(), 'data', 'tl_datasets', 'final_dataset_pretrain_A.pickle'))\n",
    "\n",
    "pt_files = []\n",
    "for pdata in tqdm.tqdm(pt_pickle, desc='Preparing pretraining dataset', total=len(pt_pickle)):\n",
    "    pt_files.append(pdata)\n",
    "\n",
    "pt_lengths = pd.read_csv(os.path.join(project_root(), 'data', 'tl_datasets', 'lengths_pretrain_A.txt'), header=None).values\n",
    "pt_sepsis = pd.read_csv(os.path.join(project_root(), 'data', 'tl_datasets', 'is_sepsis_pretrain_A.txt'), header=None).values\n"
   ],
   "id": "ded57acedc79bdd6",
   "execution_count": 37,
   "outputs": []
  },
  {
   "metadata": {
    "ExecuteTime": {
     "end_time": "2024-09-17T06:55:30.315236Z",
     "start_time": "2024-09-17T06:55:30.313516Z"
    }
   },
   "cell_type": "code",
   "source": "",
   "id": "6e64f23e844939a4",
   "execution_count": 42,
   "outputs": []
  },
  {
   "metadata": {
    "ExecuteTime": {
     "end_time": "2024-09-17T06:55:16.443325Z",
     "start_time": "2024-09-17T06:55:16.404260Z"
    }
   },
   "cell_type": "code",
   "source": "len(pt_files), len(pt_lengths), len(pt_sepsis)",
   "id": "94f5678beacd2870",
   "execution_count": 39,
   "outputs": []
  },
  {
   "metadata": {
    "ExecuteTime": {
     "end_time": "2024-09-17T06:56:19.571819Z",
     "start_time": "2024-09-17T06:56:19.490322Z"
    }
   },
   "cell_type": "code",
   "source": [
    "import torch\n",
    "\n",
    "ft_files = torch.load(os.path.join(project_root(), 'data', 'tl_datasets', 'finetune', 'finetune.pt'))['samples']\n",
    "ft_lengths = pd.read_csv(os.path.join(project_root(), 'data', 'tl_datasets', 'finetune', 'lengths.txt'), header=None)\n",
    "ft_sepsis = pd.read_csv(os.path.join(project_root(), 'data', 'tl_datasets', 'finetune', 'is_sepsis.txt'), header=None)\n"
   ],
   "id": "625f2785583ce345",
   "execution_count": 44,
   "outputs": []
  },
  {
   "metadata": {
    "ExecuteTime": {
     "end_time": "2024-09-17T06:56:23.483652Z",
     "start_time": "2024-09-17T06:56:23.480604Z"
    }
   },
   "cell_type": "code",
   "source": "ft_files[0].shape",
   "id": "c4298a2e03fa4e77",
   "execution_count": 46,
   "outputs": []
  },
  {
   "metadata": {
    "ExecuteTime": {
     "end_time": "2024-09-17T06:44:24.429877Z",
     "start_time": "2024-09-17T06:44:24.428244Z"
    }
   },
   "cell_type": "code",
   "source": "",
   "id": "6a4288eb7969f98d",
   "execution_count": 30,
   "outputs": []
  },
  {
   "metadata": {
    "ExecuteTime": {
     "end_time": "2024-09-17T06:57:10.380360Z",
     "start_time": "2024-09-17T06:57:10.374801Z"
    }
   },
   "cell_type": "code",
   "source": "pd.read_csv(os.path.join(project_root(), 'data', 'tl_datasets', 'lengths_pretrain_A.txt'), header=None).values.squeeze()",
   "id": "cf9429eab5ef49c5",
   "execution_count": 49,
   "outputs": []
  },
  {
   "metadata": {},
   "cell_type": "code",
   "execution_count": null,
   "source": "",
   "id": "8883c5fc51d68980",
   "outputs": []
  },
  {
   "metadata": {},
   "cell_type": "markdown",
   "source": "# Simmtm GTN Backbone Summary",
   "id": "a1dffded06af6f4d"
  },
  {
   "metadata": {
    "ExecuteTime": {
     "end_time": "2024-09-17T06:22:05.123864Z",
     "start_time": "2024-09-17T06:21:48.386371Z"
    }
   },
   "cell_type": "code",
   "source": [
    "from models.simmtm.model import TFC\n",
    "from models.simmtm.config import Config\n",
    "from utils.pretrain_utils.get_args import get_args\n",
    "from torchinfo import summary \n",
    "\n",
    "# Gathering args and configs\n",
    "args, unknown = get_args()\n",
    "config = Config()\n",
    "model = TFC(configs=config, args=args)\n",
    "\n",
    "summary(model)\n"
   ],
   "id": "2a894e982f68cb24",
   "execution_count": 2,
   "outputs": []
  },
  {
   "metadata": {
    "ExecuteTime": {
     "end_time": "2024-09-17T06:22:05.126535Z",
     "start_time": "2024-09-17T06:22:05.124836Z"
    }
   },
   "cell_type": "code",
   "source": "",
   "id": "be1ffff227610fda",
   "execution_count": 2,
   "outputs": []
  },
  {
   "metadata": {},
   "cell_type": "markdown",
   "source": "# GTN Backbone Summary",
   "id": "6c3ec1195d50cb2a"
  },
  {
   "metadata": {
    "ExecuteTime": {
     "end_time": "2024-09-17T06:23:11.076519Z",
     "start_time": "2024-09-17T06:23:10.943194Z"
    }
   },
   "cell_type": "code",
   "source": [
    "from models.gtn.config import Config\n",
    "from models.gtn.transformer import Transformer\n",
    "\n",
    "config = Config()\n",
    "\n",
    "# Model\n",
    "model = Transformer(d_model=config.d_model, d_input=config.d_input,\n",
    "                    d_channel=config.d_channel, d_output=config.d_output,\n",
    "                    d_hidden=config.d_hidden, q=config.q, v=config.v,\n",
    "                    h=config.h, N=config.N, device=config.device,\n",
    "                    dropout=config.dropout, pe=config.pe, mask=config.mask)\n",
    "\n",
    "summary(model)\n"
   ],
   "id": "a6be74f119c1b105",
   "execution_count": 5,
   "outputs": []
  },
  {
   "metadata": {
    "ExecuteTime": {
     "end_time": "2024-09-17T06:22:05.269666Z",
     "start_time": "2024-09-17T06:22:05.268189Z"
    }
   },
   "cell_type": "code",
   "source": "",
   "id": "b6db9b40ff2dfa49",
   "execution_count": 3,
   "outputs": []
  },
  {
   "metadata": {
    "ExecuteTime": {
     "end_time": "2024-09-17T06:22:05.271746Z",
     "start_time": "2024-09-17T06:22:05.270354Z"
    }
   },
   "cell_type": "code",
   "source": "",
   "id": "64a2e815faf39ecf",
   "execution_count": 3,
   "outputs": []
  },
  {
   "metadata": {
    "ExecuteTime": {
     "end_time": "2024-09-17T06:22:05.273879Z",
     "start_time": "2024-09-17T06:22:05.272399Z"
    }
   },
   "cell_type": "code",
   "source": "",
   "id": "2a05ff7ffe185c51",
   "execution_count": 3,
   "outputs": []
  }
 ],
 "metadata": {
  "kernelspec": {
   "display_name": "Python 3",
   "language": "python",
   "name": "python3"
  },
  "language_info": {
   "codemirror_mode": {
    "name": "ipython",
    "version": 2
   },
   "file_extension": ".py",
   "mimetype": "text/x-python",
   "name": "python",
   "nbconvert_exporter": "python",
   "pygments_lexer": "ipython2",
   "version": "2.7.6"
  }
 },
 "nbformat": 4,
 "nbformat_minor": 5
}
