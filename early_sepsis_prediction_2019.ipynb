{
 "cells": [
  {
   "cell_type": "code",
   "id": "initial_id",
   "metadata": {
    "collapsed": true,
    "ExecuteTime": {
     "end_time": "2024-06-09T02:23:11.829199Z",
     "start_time": "2024-06-09T02:23:10.875739Z"
    }
   },
   "source": [
    "import numpy as np\n",
    "import pandas as pd\n",
    "import matplotlib.pyplot as plt\n",
    "import seaborn as sns\n",
    "\n",
    "from pylab import rcParams\n",
    "\n",
    "%matplotlib inline\n",
    "%config InlineBackend.figure_format='retina'\n",
    "sns.set(style='whitegrid', palette='muted')\n",
    "HAPPY_COLORS_PALETTE = [\"#01BEFE\", \"#FFDD00\", \"#FF7D00\", \"#FF006D\", \"#ADFF02\", \"#8F00FF\"]\n",
    "sns.set_palette(sns.color_palette(HAPPY_COLORS_PALETTE))\n",
    "rcParams['figure.figsize'] = 7, 4\n",
    "\n",
    "import random\n",
    "from utils.helpers import load_data, get_features, plot_random_patient_recordings\n",
    "\n",
    "from tqdm.auto import tqdm\n",
    "\n",
    "import torch\n",
    "import torch.autograd as autograd\n",
    "import torch.nn as nn\n",
    "import torch.optim as optim\n",
    "import torch.nn.functional as F\n",
    "from torch.utils.data import Dataset, DataLoader\n",
    "\n",
    "import pytorch_lightning as pl\n",
    "import seaborn as sns\n",
    "from pylab import rcParams\n",
    "import matplotlib.pyplot as plt\n",
    "from matplotlib.ticker import MaxNLocator\n",
    "\n",
    "from sklearn.model_selection import train_test_split\n",
    "from sklearn.preprocessing import LabelEncoder\n",
    "\n",
    "from multiprocessing import cpu_count\n",
    "from pytorch_lightning.callbacks import ModelCheckpoint, EarlyStopping\n",
    "from pytorch_lightning.loggers import TensorBoardLogger\n",
    "from torchmetrics import Accuracy\n",
    "from sklearn.metrics import classification_report, confusion_matrix\n",
    "\n",
    "RANDOM_SEED = 42\n",
    "pl.seed_everything(42)\n",
    "np.random.seed(RANDOM_SEED)\n",
    "torch.manual_seed(RANDOM_SEED)"
   ],
   "execution_count": 1,
   "outputs": []
  },
  {
   "metadata": {
    "ExecuteTime": {
     "end_time": "2024-06-09T02:23:11.831230Z",
     "start_time": "2024-06-09T02:23:11.829953Z"
    }
   },
   "cell_type": "code",
   "source": "",
   "id": "24480e9bff1c53a",
   "execution_count": 1,
   "outputs": []
  },
  {
   "metadata": {},
   "cell_type": "markdown",
   "source": "# Importing Data",
   "id": "78521baad951872c"
  },
  {
   "metadata": {
    "ExecuteTime": {
     "end_time": "2024-06-09T02:23:21.090875Z",
     "start_time": "2024-06-09T02:23:11.831630Z"
    }
   },
   "cell_type": "code",
   "source": [
    "directories = ['./physionet.org/files/challenge-2019/1.0.0/training/training_setA', \n",
    "               './physionet.org/files/challenge-2019/1.0.0/training/training_setB']\n",
    "\n",
    "dataset, record_lengths = load_data(directories=directories, target_label='SepsisLabel')\n",
    "# X_train, y_train, record_lengths = load_data(directories=directories, target_label='SepsisLabel', x_train_y_train=True)"
   ],
   "id": "66c9628ab27f8533",
   "execution_count": 2,
   "outputs": []
  },
  {
   "metadata": {
    "ExecuteTime": {
     "end_time": "2024-06-09T02:23:21.100963Z",
     "start_time": "2024-06-09T02:23:21.092045Z"
    }
   },
   "cell_type": "code",
   "source": [
    "print(dataset.shape)\n",
    "dataset.head()"
   ],
   "id": "963a7c93042cca60",
   "execution_count": 3,
   "outputs": []
  },
  {
   "metadata": {
    "ExecuteTime": {
     "end_time": "2024-06-09T02:23:21.102793Z",
     "start_time": "2024-06-09T02:23:21.101417Z"
    }
   },
   "cell_type": "code",
   "source": "",
   "id": "afd55f6b21dea9fa",
   "execution_count": 3,
   "outputs": []
  },
  {
   "metadata": {},
   "cell_type": "markdown",
   "source": "# Initial Analysis",
   "id": "8bfbf2581e1da4fe"
  },
  {
   "metadata": {},
   "cell_type": "markdown",
   "source": "## Target Distribution",
   "id": "dee5b354d5cd18c9"
  },
  {
   "metadata": {
    "ExecuteTime": {
     "end_time": "2024-06-09T02:23:21.111940Z",
     "start_time": "2024-06-09T02:23:21.103211Z"
    }
   },
   "cell_type": "code",
   "source": [
    "def plot_target_classes():\n",
    "    start_length, ones, zeros = 0, 0, 0\n",
    "    for idx, length in enumerate(record_lengths):\n",
    "        end_length = start_length + length    \n",
    "        if dataset['SepsisLabel'][start_length:end_length].isin([1.0]).any():\n",
    "            ones += 1\n",
    "        else:\n",
    "            zeros += 1\n",
    "        start_length = end_length\n",
    "        \n",
    "    data = {'Category': ['Sepsis', 'Non-Sepsis'], 'Count': [ones, zeros]}\n",
    "    plot_df = pd.DataFrame(data)\n",
    "    ax = sns.barplot(x='Category', y='Count', data=plot_df)\n",
    "    plt.title('Counts of 1.0s and 0.0s in SepsisLabel')\n",
    "    total = ones + zeros\n",
    "    for p in ax.patches:\n",
    "        percentage = '{:.3f}%'.format(100 * p.get_height() / total)\n",
    "        ax.annotate(percentage, (p.get_x() + p.get_width() / 2., p.get_height()), fontsize='x-small', \n",
    "                    ha='center', va='center', xytext=(0, 5), textcoords='offset points')\n",
    "    plt.show()"
   ],
   "id": "8d4d36d668d6673c",
   "execution_count": 4,
   "outputs": []
  },
  {
   "metadata": {
    "ExecuteTime": {
     "end_time": "2024-06-09T02:23:22.978934Z",
     "start_time": "2024-06-09T02:23:21.112422Z"
    }
   },
   "cell_type": "code",
   "source": "plot_target_classes()",
   "id": "114e26959ab5c871",
   "execution_count": 5,
   "outputs": []
  },
  {
   "metadata": {},
   "cell_type": "markdown",
   "source": "- **Immbalanced Dataset**",
   "id": "212ad16afad7c57a"
  },
  {
   "metadata": {},
   "cell_type": "markdown",
   "source": "## Distribution of recordings",
   "id": "db18392ec9d6d6c7"
  },
  {
   "metadata": {
    "ExecuteTime": {
     "end_time": "2024-06-09T02:23:23.231390Z",
     "start_time": "2024-06-09T02:23:22.979979Z"
    }
   },
   "cell_type": "code",
   "source": [
    "def plot_recordings(record_lengths):\n",
    "    sns.histplot(record_lengths, kde=True)\n",
    "    plt.title('Distribution of Record Lengths')\n",
    "    plt.xlabel('Record Length')\n",
    "    plt.ylabel('Frequency')\n",
    "    plt.show()\n",
    "    \n",
    "plot_recordings(record_lengths)"
   ],
   "id": "5f7a489554a78330",
   "execution_count": 6,
   "outputs": []
  },
  {
   "metadata": {},
   "cell_type": "markdown",
   "source": [
    "- **259 Recordings: p000009**<br>\n",
    "- **337 Recordings: p016581, p003658**\n",
    "- **336 Recordings: p018823**"
   ],
   "id": "2b26ebbbc0a3d282"
  },
  {
   "metadata": {
    "ExecuteTime": {
     "end_time": "2024-06-09T02:23:23.233349Z",
     "start_time": "2024-06-09T02:23:23.231991Z"
    }
   },
   "cell_type": "code",
   "source": "",
   "id": "97a4226b5ad530c0",
   "execution_count": 6,
   "outputs": []
  },
  {
   "metadata": {},
   "cell_type": "markdown",
   "source": "## Missing Values",
   "id": "ced4989d8f0330cc"
  },
  {
   "metadata": {
    "ExecuteTime": {
     "end_time": "2024-06-09T02:23:23.518131Z",
     "start_time": "2024-06-09T02:23:23.234410Z"
    }
   },
   "cell_type": "code",
   "source": [
    "def missing_percentage(dataset):\n",
    "    \n",
    "    missing_percent = dataset.isnull().mean() * 100\n",
    "    missing_df = pd.DataFrame({\n",
    "        'Features': missing_percent.index,\n",
    "        'Percentage': missing_percent.values\n",
    "    })\n",
    "    \n",
    "    plt.figure(figsize=(10, 4))\n",
    "    sns.barplot(x='Features', y='Percentage', data=missing_df)\n",
    "    plt.title('Percentage of Missing Values')\n",
    "    plt.xticks(rotation=90)\n",
    "    plt.axhline(90, color='r', linestyle='--')\n",
    "    plt.axhline(95, color='r', linestyle='--')\n",
    "    plt.axhline(99, color='r', linestyle='--')\n",
    "    plt.text(42.5, 88, '90%', color='r', ha='center', fontdict={'size': 8})\n",
    "    plt.text(42.5, 93, '95%', color='r', ha='center', fontdict={'size': 8})\n",
    "    plt.text(42.5, 98, '99%', color='r', ha='center', fontdict={'size': 8})\n",
    "    \n",
    "    plt.show()\n",
    "    \n",
    "missing_percentage(dataset)"
   ],
   "id": "6a0a44a166359f59",
   "execution_count": 7,
   "outputs": []
  },
  {
   "metadata": {},
   "cell_type": "markdown",
   "source": "- **Most of the features have above 90% missing values**",
   "id": "44e39015e0acdd35"
  },
  {
   "metadata": {
    "ExecuteTime": {
     "end_time": "2024-06-09T02:23:23.521232Z",
     "start_time": "2024-06-09T02:23:23.518757Z"
    }
   },
   "cell_type": "code",
   "source": [
    "vital_signs = ['HR', 'O2Sat', 'Temp', 'SBP', 'MAP', 'DBP', 'Resp', 'EtCO2']\n",
    "laboratory_values = ['BaseExcess', 'HCO3', 'FiO2', 'pH', 'PaCO2', 'SaO2', 'AST', 'BUN', 'Alkalinephos', 'Calcium', \n",
    "                     'Chloride', 'Creatinine', 'Bilirubin_direct', 'Glucose', 'Lactate', 'Magnesium', 'Phosphate', \n",
    "                     'Potassium', 'Bilirubin_total', 'TroponinI', 'Hct', 'Hgb', 'PTT', 'WBC', 'Fibrinogen', 'Platelets']\n",
    "demographics = ['Age', 'Gender', 'Unit1', 'Unit2', 'HospAdmTime', 'ICULOS']\n",
    "\n",
    "print(f\"Total number of features: {len(vital_signs) + len(laboratory_values) + len(demographics)}\")"
   ],
   "id": "e28a9d21262840b9",
   "execution_count": 8,
   "outputs": []
  },
  {
   "metadata": {},
   "cell_type": "markdown",
   "source": [
    "- **Among vital signs features, EtCO2 has >95% of missing values.**<br>\n",
    "- **All laboratory features have missing values >90%.**<br>\n",
    "- **Among demographics features, Unit 1 and Unit 2 has around 40% of missing values.**"
   ],
   "id": "e6db33acec04dd3a"
  },
  {
   "metadata": {
    "ExecuteTime": {
     "end_time": "2024-06-09T02:23:23.523126Z",
     "start_time": "2024-06-09T02:23:23.521727Z"
    }
   },
   "cell_type": "code",
   "source": "",
   "id": "85204983902fbba1",
   "execution_count": 8,
   "outputs": []
  },
  {
   "metadata": {},
   "cell_type": "markdown",
   "source": "### Case 1: Removing features having missing values >90%",
   "id": "a55abbf1f92bd29f"
  },
  {
   "metadata": {
    "ExecuteTime": {
     "end_time": "2024-06-09T02:23:23.592790Z",
     "start_time": "2024-06-09T02:23:23.523564Z"
    }
   },
   "cell_type": "code",
   "source": [
    "# vital_signs.remove('EtCO2')\n",
    "# laboratory_values = [] # removing all\n",
    "# demographics = demographics\n",
    "\n",
    "vital_signs, laboratory_values, demographics = get_features(case=1)\n",
    "INPUT_FEATURES = vital_signs + laboratory_values + demographics\n",
    "OUTPUT_FEATURE = ['SepsisLabel']\n",
    "dataset = dataset[INPUT_FEATURES + OUTPUT_FEATURE + ['PatientID']]"
   ],
   "id": "d265f2b0963c7d9d",
   "execution_count": 9,
   "outputs": []
  },
  {
   "metadata": {
    "ExecuteTime": {
     "end_time": "2024-06-09T02:23:23.600966Z",
     "start_time": "2024-06-09T02:23:23.593570Z"
    }
   },
   "cell_type": "code",
   "source": [
    "print(dataset.shape)\n",
    "dataset.head()"
   ],
   "id": "a52ba10ea5f1b594",
   "execution_count": 10,
   "outputs": []
  },
  {
   "metadata": {
    "ExecuteTime": {
     "end_time": "2024-06-09T02:23:23.810871Z",
     "start_time": "2024-06-09T02:23:23.601401Z"
    }
   },
   "cell_type": "code",
   "source": "selected_patient_ids = plot_random_patient_recordings(dataset, feature='Temp', num_plots=2, fill_method='ffill')",
   "id": "be302e75ee5d7cd6",
   "execution_count": 11,
   "outputs": []
  },
  {
   "metadata": {},
   "cell_type": "markdown",
   "source": [
    "- **Filling NULL values with forward filling stratergy**<br>\n",
    "- **By Dropping null values in Unit1 and Unit2, we are loosing data belong to 2 paitents, their IDs is 1 and 2**"
   ],
   "id": "677e813f7297dccb"
  },
  {
   "metadata": {},
   "cell_type": "markdown",
   "source": "",
   "id": "fa16272a5cb9f5dd"
  },
  {
   "metadata": {
    "ExecuteTime": {
     "end_time": "2024-06-09T02:40:10.717044Z",
     "start_time": "2024-06-09T02:40:10.715623Z"
    }
   },
   "cell_type": "code",
   "source": "",
   "id": "334cf5c7149fca1b",
   "execution_count": 20,
   "outputs": []
  },
  {
   "metadata": {},
   "cell_type": "markdown",
   "source": "# Pipeline",
   "id": "5e48ce9368bb8bba"
  },
  {
   "metadata": {
    "ExecuteTime": {
     "end_time": "2024-06-09T03:35:57.762904Z",
     "start_time": "2024-06-09T03:35:57.760943Z"
    }
   },
   "cell_type": "code",
   "source": [
    "from models.lgbm_classifier import SepsisPipeline\n",
    "\n",
    "import numpy as np"
   ],
   "id": "321ed83c1d969341",
   "execution_count": 1,
   "outputs": []
  },
  {
   "metadata": {
    "ExecuteTime": {
     "end_time": "2024-06-09T03:36:07.459368Z",
     "start_time": "2024-06-09T03:35:58.095115Z"
    }
   },
   "cell_type": "code",
   "source": [
    "sepsis_pipeline = SepsisPipeline()\n",
    "\n",
    "dataset, record_lengths = sepsis_pipeline.load_data()\n",
    "vital_signs, laboratory_values, demographics = sepsis_pipeline.get_features(case=1)"
   ],
   "id": "30f7941155eccc1f",
   "execution_count": 2,
   "outputs": []
  },
  {
   "metadata": {
    "ExecuteTime": {
     "end_time": "2024-06-09T03:36:07.583613Z",
     "start_time": "2024-06-09T03:36:07.460016Z"
    }
   },
   "cell_type": "code",
   "source": [
    "for id, patient_data in dataset.groupby('PatientID'):\n",
    "    print(id, type(patient_data), patient_data.shape)\n",
    "    \n",
    "    if id==3:\n",
    "        break"
   ],
   "id": "46316a7ecd806ca5",
   "execution_count": 3,
   "outputs": []
  },
  {
   "metadata": {
    "ExecuteTime": {
     "end_time": "2024-06-09T03:36:07.590694Z",
     "start_time": "2024-06-09T03:36:07.584170Z"
    }
   },
   "cell_type": "code",
   "source": [
    "train_percentage = 0.80\n",
    "test_percentage = 1 - train_percentage\n",
    "\n",
    "patient_ids = dataset['PatientID'].unique()\n",
    "train_ids = np.random.choice(patient_ids, int(len(patient_ids) * train_percentage), replace=False)"
   ],
   "id": "3e661e857cfec22a",
   "execution_count": 4,
   "outputs": []
  },
  {
   "metadata": {
    "ExecuteTime": {
     "end_time": "2024-06-09T03:36:08.421647Z",
     "start_time": "2024-06-09T03:36:07.591389Z"
    }
   },
   "cell_type": "code",
   "source": [
    "# Normalizing the csv by mean and std\n",
    "train_set_mean_std = dataset[dataset['PatientID'].isin(train_ids)].describe().loc[['mean', 'std']]"
   ],
   "id": "5e311f7e6b11c454",
   "execution_count": 5,
   "outputs": []
  },
  {
   "metadata": {
    "ExecuteTime": {
     "end_time": "2024-06-09T03:36:08.538462Z",
     "start_time": "2024-06-09T03:36:08.422220Z"
    }
   },
   "cell_type": "code",
   "source": [
    "window_list = []\n",
    "for patient_id, patitent_data in dataset.groupby('PatientID'):\n",
    "    patient_data = patient_data.reset_index(drop=True)\n",
    "    \n",
    "    # Imputing missing csv\n",
    "    for feature in vital_signs + laboratory_values + demographics:\n",
    "        patient_data[feature] = patient_data[feature].bfill().ffill()\n",
    "    \n",
    "    # Standardizing csv\n",
    "    for feature in vital_signs + laboratory_values + demographics:\n",
    "        mean = train_set_mean_std[feature]['mean']\n",
    "        std = train_set_mean_std[feature]['std']\n",
    "        patient_data[feature] = (patient_data[feature] - mean) / std\n",
    "        \n",
    "    # Making csv ready\n",
    "    patient_length = len(patient_data)\n",
    "    i, window_length, prediction_length = 0, 10, 1\n",
    "    while (i + window_length + prediction_length) <= patient_length:\n",
    "        temp_data = patient_data.iloc[i: i + window_length]\n",
    "        temp_label = patient_data.iloc[i + window_length: i + window_length + prediction_length]\n",
    "        temp_label = int(any(temp_label['SepsisLabel']))\n",
    "        temp_patient = patient_id\n",
    "        \n",
    "        # Sliding window by \"window_length\", and predicting \"prediction_length\" samples into future\n",
    "        i = i + 1\n",
    "        X_continous = temp_data[]\n",
    "        \n",
    "    \n",
    "    break"
   ],
   "id": "fa66f5773b0c2e5c",
   "execution_count": 6,
   "outputs": []
  },
  {
   "metadata": {
    "ExecuteTime": {
     "end_time": "2024-06-09T04:02:33.523401Z",
     "start_time": "2024-06-09T04:02:33.521257Z"
    }
   },
   "cell_type": "code",
   "source": [
    "import os\n",
    "\n",
    "\n",
    "def project_root() -> str:\n",
    "    \"\"\"Returns path to root directory of a project\"\"\"\n",
    "    return os.path.join(_file_directory_path(__file__), '..')\n",
    "\n",
    "\n",
    "def _file_directory_path(file_path_name):\n",
    "    return os.path.dirname(os.path.realpath(file_path_name))"
   ],
   "id": "eb2be0c8a093432",
   "execution_count": 10,
   "outputs": []
  },
  {
   "metadata": {
    "ExecuteTime": {
     "end_time": "2024-06-09T04:02:36.974572Z",
     "start_time": "2024-06-09T04:02:36.963751Z"
    }
   },
   "cell_type": "code",
   "source": "",
   "id": "cd08f79fea0d4ac1",
   "execution_count": 11,
   "outputs": []
  },
  {
   "metadata": {
    "ExecuteTime": {
     "end_time": "2024-06-09T02:23:23.836509Z",
     "start_time": "2024-06-09T02:23:23.835523Z"
    }
   },
   "cell_type": "code",
   "source": "",
   "id": "1b6d1dfd08d52527",
   "execution_count": 12,
   "outputs": []
  },
  {
   "metadata": {
    "ExecuteTime": {
     "end_time": "2024-06-09T02:23:23.837889Z",
     "start_time": "2024-06-09T02:23:23.836931Z"
    }
   },
   "cell_type": "code",
   "source": "",
   "id": "a2f9aafbc6b146fd",
   "execution_count": 12,
   "outputs": []
  },
  {
   "metadata": {
    "ExecuteTime": {
     "end_time": "2024-06-09T02:23:23.839204Z",
     "start_time": "2024-06-09T02:23:23.838229Z"
    }
   },
   "cell_type": "code",
   "source": "",
   "id": "23d5a0600e9bc403",
   "execution_count": 12,
   "outputs": []
  },
  {
   "metadata": {
    "ExecuteTime": {
     "end_time": "2024-06-09T02:23:23.841787Z",
     "start_time": "2024-06-09T02:23:23.840588Z"
    }
   },
   "cell_type": "code",
   "source": "",
   "id": "7e008fc2bfc0b14a",
   "execution_count": 12,
   "outputs": []
  },
  {
   "metadata": {
    "ExecuteTime": {
     "end_time": "2024-06-09T02:23:23.843414Z",
     "start_time": "2024-06-09T02:23:23.842270Z"
    }
   },
   "cell_type": "code",
   "source": "",
   "id": "3d7bbfb497322801",
   "execution_count": 12,
   "outputs": []
  },
  {
   "metadata": {
    "ExecuteTime": {
     "end_time": "2024-06-09T02:23:23.845048Z",
     "start_time": "2024-06-09T02:23:23.843916Z"
    }
   },
   "cell_type": "code",
   "source": "",
   "id": "4ef4620041e2de32",
   "execution_count": 12,
   "outputs": []
  },
  {
   "metadata": {
    "ExecuteTime": {
     "end_time": "2024-06-09T02:23:23.846925Z",
     "start_time": "2024-06-09T02:23:23.845513Z"
    }
   },
   "cell_type": "code",
   "source": [
    "# device = torch.device('cuda' if torch.cuda.is_available() else 'cpu')\n",
    "# print('Using device:', device)\n",
    "# print()\n",
    "# \n",
    "# if device.type == 'cuda':\n",
    "#     print(torch.cuda.get_device_name(0))\n",
    "#     print('Memory Usage:')\n",
    "#     print('Allocated:', round(torch.cuda.memory_allocated(0)/1024**3,1), 'GB')\n",
    "#     print('Cached:   ', round(torch.cuda.memory_reserved(0)/1024**3,1), 'GB')\n",
    "\n",
    "# To monitor GPU usage every 2 seconds\n",
    "# watch -n 2 nvidia-smi"
   ],
   "id": "e0d27b04d23b7345",
   "execution_count": 13,
   "outputs": []
  },
  {
   "metadata": {
    "ExecuteTime": {
     "end_time": "2024-06-09T02:23:23.848569Z",
     "start_time": "2024-06-09T02:23:23.847405Z"
    }
   },
   "cell_type": "code",
   "source": "",
   "id": "658d498cdbdf38b7",
   "execution_count": 13,
   "outputs": []
  },
  {
   "metadata": {
    "ExecuteTime": {
     "end_time": "2024-06-09T02:23:23.850163Z",
     "start_time": "2024-06-09T02:23:23.849046Z"
    }
   },
   "cell_type": "code",
   "source": "",
   "id": "e359b80af4fa8cbf",
   "execution_count": 13,
   "outputs": []
  }
 ],
 "metadata": {
  "kernelspec": {
   "display_name": "Python 3",
   "language": "python",
   "name": "python3"
  },
  "language_info": {
   "codemirror_mode": {
    "name": "ipython",
    "version": 2
   },
   "file_extension": ".py",
   "mimetype": "text/x-python",
   "name": "python",
   "nbconvert_exporter": "python",
   "pygments_lexer": "ipython2",
   "version": "2.7.6"
  }
 },
 "nbformat": 4,
 "nbformat_minor": 5
}
