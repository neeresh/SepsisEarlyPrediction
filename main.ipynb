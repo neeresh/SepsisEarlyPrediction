{
 "cells": [
  {
   "cell_type": "code",
   "id": "initial_id",
   "metadata": {
    "collapsed": true,
    "ExecuteTime": {
     "end_time": "2024-06-07T04:35:11.744160Z",
     "start_time": "2024-06-07T04:35:11.170236Z"
    }
   },
   "source": [
    "import pandas as pd\n",
    "import numpy as np\n",
    "from tqdm.auto import tqdm\n",
    "\n",
    "import torch\n",
    "import torch.autograd as autograd\n",
    "import torch.nn as nn\n",
    "import torch.optim as optim\n",
    "import torch.nn.functional as F\n",
    "from torch.utils.data import Dataset, DataLoader\n",
    "\n",
    "# import pytorch_lightning as pl\n",
    "import seaborn as sns\n",
    "from pylab import rcParams\n",
    "import matplotlib.pyplot as plt\n",
    "from matplotlib.ticker import MaxNLocator\n",
    "\n",
    "from sklearn.model_selection import train_test_split\n",
    "from sklearn.preprocessing import LabelEncoder\n",
    "\n",
    "from multiprocessing import cpu_count\n",
    "# from pytorch_lightning.callbacks import ModelCheckpoint, EarlyStopping\n",
    "# from pytorch_lightning.loggers import TensorBoardLogger\n",
    "# from torchmetrics import Accuracy\n",
    "from sklearn.metrics import classification_report, confusion_matrix\n",
    "\n",
    "# %matplotlib inline\n",
    "# %config InlineBackend.figure_format='retina'\n",
    "# sns.set(style='whitegrid', palette='muted')\n",
    "# HAPPY_COLORS_PALETTE = [\"#01BEFE\", \"#FFDD00\", \"#FF7D00\", \"#FF006D\", \"#ADFF02\", \"#8F00FF\"]\n",
    "# sns.set_palette(sns.color_palette(HAPPY_COLORS_PALETTE))\n",
    "# rcParams['figure.figsize'] = 3, 2\n",
    "\n",
    "# Reproducibility\n",
    "RANDOM_SEED = 42\n",
    "np.random.seed(RANDOM_SEED)\n",
    "torch.manual_seed(RANDOM_SEED)"
   ],
   "outputs": [
    {
     "data": {
      "text/plain": [
       "<torch._C.Generator at 0x13cd4b9b0>"
      ]
     },
     "execution_count": 1,
     "metadata": {},
     "output_type": "execute_result"
    }
   ],
   "execution_count": 1
  },
  {
   "metadata": {
    "ExecuteTime": {
     "end_time": "2024-06-07T04:35:12.033353Z",
     "start_time": "2024-06-07T04:35:11.745160Z"
    }
   },
   "cell_type": "code",
   "source": [
    "X_train = pd.read_csv(\"./data/career-con-2019/X_train.csv\")\n",
    "y_train = pd.read_csv(\"./data/career-con-2019/y_train.csv\")"
   ],
   "id": "3cd44679b11a0b15",
   "outputs": [],
   "execution_count": 2
  },
  {
   "metadata": {
    "ExecuteTime": {
     "end_time": "2024-06-07T04:36:04.665328Z",
     "start_time": "2024-06-07T04:36:04.571351Z"
    }
   },
   "cell_type": "code",
   "source": [
    "y_train.surface.value_counts().plot(kind='bar')\n",
    "\n",
    "plt.show()\n",
    "plt.close()"
   ],
   "id": "fe436667691ecf90",
   "outputs": [
    {
     "data": {
      "text/plain": [
       "<Figure size 640x480 with 1 Axes>"
      ],
      "image/png": "[encoded data removed]"
     },
     "metadata": {},
     "output_type": "display_data"
    }
   ],
   "execution_count": 7
  },
  {
   "metadata": {},
   "cell_type": "markdown",
   "source": "# Data Pre-processing",
   "id": "2775d5a0ff51ceda"
  },
  {
   "metadata": {},
   "cell_type": "markdown",
   "source": "- **Integers to strings**",
   "id": "fb288c653569ff95"
  },
  {
   "metadata": {
    "ExecuteTime": {
     "end_time": "2024-06-07T04:39:37.955135Z",
     "start_time": "2024-06-07T04:39:37.952065Z"
    }
   },
   "cell_type": "code",
   "source": [
    "label_encoder = LabelEncoder()\n",
    "encoded_labels = label_encoder.fit_transform(y_train.surface)\n",
    "\n",
    "for enc_label, label_name in zip(encoded_labels, label_encoder.classes_):\n",
    "    print(f\"Original Label -> encoded label: {label_name} -> {enc_label}\")"
   ],
   "id": "b3b4192482e6d2df",
   "outputs": [
    {
     "name": "stdout",
     "output_type": "stream",
     "text": [
      "Original Label -> encoded label: carpet -> 2\n",
      "Original Label -> encoded label: concrete -> 1\n",
      "Original Label -> encoded label: fine_concrete -> 1\n",
      "Original Label -> encoded label: hard_tiles -> 1\n",
      "Original Label -> encoded label: hard_tiles_large_space -> 6\n",
      "Original Label -> encoded label: soft_pvc -> 7\n",
      "Original Label -> encoded label: soft_tiles -> 5\n",
      "Original Label -> encoded label: tiled -> 1\n",
      "Original Label -> encoded label: wood -> 4\n"
     ]
    }
   ],
   "execution_count": 9
  },
  {
   "metadata": {
    "ExecuteTime": {
     "end_time": "2024-06-07T04:40:05.554076Z",
     "start_time": "2024-06-07T04:40:05.545626Z"
    }
   },
   "cell_type": "code",
   "source": [
    "y_train[\"label\"] = encoded_labels\n",
    "y_train.head()"
   ],
   "id": "9aa5769ed324f8cf",
   "outputs": [
    {
     "data": {
      "text/plain": [
       "   series_id  group_id        surface  label\n",
       "0          0        13  fine_concrete      2\n",
       "1          1        31       concrete      1\n",
       "2          2        20       concrete      1\n",
       "3          3        31       concrete      1\n",
       "4          4        22     soft_tiles      6"
      ],
      "text/html": [
       "<div>\n",
       "<style scoped>\n",
       "    .dataframe tbody tr th:only-of-type {\n",
       "        vertical-align: middle;\n",
       "    }\n",
       "\n",
       "    .dataframe tbody tr th {\n",
       "        vertical-align: top;\n",
       "    }\n",
       "\n",
       "    .dataframe thead th {\n",
       "        text-align: right;\n",
       "    }\n",
       "</style>\n",
       "<table border=\"1\" class=\"dataframe\">\n",
       "  <thead>\n",
       "    <tr style=\"text-align: right;\">\n",
       "      <th></th>\n",
       "      <th>series_id</th>\n",
       "      <th>group_id</th>\n",
       "      <th>surface</th>\n",
       "      <th>label</th>\n",
       "    </tr>\n",
       "  </thead>\n",
       "  <tbody>\n",
       "    <tr>\n",
       "      <th>0</th>\n",
       "      <td>0</td>\n",
       "      <td>13</td>\n",
       "      <td>fine_concrete</td>\n",
       "      <td>2</td>\n",
       "    </tr>\n",
       "    <tr>\n",
       "      <th>1</th>\n",
       "      <td>1</td>\n",
       "      <td>31</td>\n",
       "      <td>concrete</td>\n",
       "      <td>1</td>\n",
       "    </tr>\n",
       "    <tr>\n",
       "      <th>2</th>\n",
       "      <td>2</td>\n",
       "      <td>20</td>\n",
       "      <td>concrete</td>\n",
       "      <td>1</td>\n",
       "    </tr>\n",
       "    <tr>\n",
       "      <th>3</th>\n",
       "      <td>3</td>\n",
       "      <td>31</td>\n",
       "      <td>concrete</td>\n",
       "      <td>1</td>\n",
       "    </tr>\n",
       "    <tr>\n",
       "      <th>4</th>\n",
       "      <td>4</td>\n",
       "      <td>22</td>\n",
       "      <td>soft_tiles</td>\n",
       "      <td>6</td>\n",
       "    </tr>\n",
       "  </tbody>\n",
       "</table>\n",
       "</div>"
      ]
     },
     "execution_count": 10,
     "metadata": {},
     "output_type": "execute_result"
    }
   ],
   "execution_count": 10
  },
  {
   "metadata": {
    "ExecuteTime": {
     "end_time": "2024-06-07T04:40:26.107511Z",
     "start_time": "2024-06-07T04:40:26.099518Z"
    }
   },
   "cell_type": "code",
   "source": "X_train.head()",
   "id": "6fe6021b741a5471",
   "outputs": [
    {
     "data": {
      "text/plain": [
       "  row_id  series_id  measurement_number  orientation_X  orientation_Y  \\\n",
       "0    0_0          0                   0       -0.75853       -0.63435   \n",
       "1    0_1          0                   1       -0.75853       -0.63434   \n",
       "2    0_2          0                   2       -0.75853       -0.63435   \n",
       "3    0_3          0                   3       -0.75852       -0.63436   \n",
       "4    0_4          0                   4       -0.75852       -0.63435   \n",
       "\n",
       "   orientation_Z  orientation_W  angular_velocity_X  angular_velocity_Y  \\\n",
       "0       -0.10488       -0.10597            0.107650            0.017561   \n",
       "1       -0.10490       -0.10600            0.067851            0.029939   \n",
       "2       -0.10492       -0.10597            0.007275            0.028934   \n",
       "3       -0.10495       -0.10597           -0.013053            0.019448   \n",
       "4       -0.10495       -0.10596            0.005135            0.007652   \n",
       "\n",
       "   angular_velocity_Z  linear_acceleration_X  linear_acceleration_Y  \\\n",
       "0            0.000767               -0.74857                 2.1030   \n",
       "1            0.003386                0.33995                 1.5064   \n",
       "2           -0.005978               -0.26429                 1.5922   \n",
       "3           -0.008974                0.42684                 1.0993   \n",
       "4            0.005245               -0.50969                 1.4689   \n",
       "\n",
       "   linear_acceleration_Z  \n",
       "0                -9.7532  \n",
       "1                -9.4128  \n",
       "2                -8.7267  \n",
       "3               -10.0960  \n",
       "4               -10.4410  "
      ],
      "text/html": [
       "<div>\n",
       "<style scoped>\n",
       "    .dataframe tbody tr th:only-of-type {\n",
       "        vertical-align: middle;\n",
       "    }\n",
       "\n",
       "    .dataframe tbody tr th {\n",
       "        vertical-align: top;\n",
       "    }\n",
       "\n",
       "    .dataframe thead th {\n",
       "        text-align: right;\n",
       "    }\n",
       "</style>\n",
       "<table border=\"1\" class=\"dataframe\">\n",
       "  <thead>\n",
       "    <tr style=\"text-align: right;\">\n",
       "      <th></th>\n",
       "      <th>row_id</th>\n",
       "      <th>series_id</th>\n",
       "      <th>measurement_number</th>\n",
       "      <th>orientation_X</th>\n",
       "      <th>orientation_Y</th>\n",
       "      <th>orientation_Z</th>\n",
       "      <th>orientation_W</th>\n",
       "      <th>angular_velocity_X</th>\n",
       "      <th>angular_velocity_Y</th>\n",
       "      <th>angular_velocity_Z</th>\n",
       "      <th>linear_acceleration_X</th>\n",
       "      <th>linear_acceleration_Y</th>\n",
       "      <th>linear_acceleration_Z</th>\n",
       "    </tr>\n",
       "  </thead>\n",
       "  <tbody>\n",
       "    <tr>\n",
       "      <th>0</th>\n",
       "      <td>0_0</td>\n",
       "      <td>0</td>\n",
       "      <td>0</td>\n",
       "      <td>-0.75853</td>\n",
       "      <td>-0.63435</td>\n",
       "      <td>-0.10488</td>\n",
       "      <td>-0.10597</td>\n",
       "      <td>0.107650</td>\n",
       "      <td>0.017561</td>\n",
       "      <td>0.000767</td>\n",
       "      <td>-0.74857</td>\n",
       "      <td>2.1030</td>\n",
       "      <td>-9.7532</td>\n",
       "    </tr>\n",
       "    <tr>\n",
       "      <th>1</th>\n",
       "      <td>0_1</td>\n",
       "      <td>0</td>\n",
       "      <td>1</td>\n",
       "      <td>-0.75853</td>\n",
       "      <td>-0.63434</td>\n",
       "      <td>-0.10490</td>\n",
       "      <td>-0.10600</td>\n",
       "      <td>0.067851</td>\n",
       "      <td>0.029939</td>\n",
       "      <td>0.003386</td>\n",
       "      <td>0.33995</td>\n",
       "      <td>1.5064</td>\n",
       "      <td>-9.4128</td>\n",
       "    </tr>\n",
       "    <tr>\n",
       "      <th>2</th>\n",
       "      <td>0_2</td>\n",
       "      <td>0</td>\n",
       "      <td>2</td>\n",
       "      <td>-0.75853</td>\n",
       "      <td>-0.63435</td>\n",
       "      <td>-0.10492</td>\n",
       "      <td>-0.10597</td>\n",
       "      <td>0.007275</td>\n",
       "      <td>0.028934</td>\n",
       "      <td>-0.005978</td>\n",
       "      <td>-0.26429</td>\n",
       "      <td>1.5922</td>\n",
       "      <td>-8.7267</td>\n",
       "    </tr>\n",
       "    <tr>\n",
       "      <th>3</th>\n",
       "      <td>0_3</td>\n",
       "      <td>0</td>\n",
       "      <td>3</td>\n",
       "      <td>-0.75852</td>\n",
       "      <td>-0.63436</td>\n",
       "      <td>-0.10495</td>\n",
       "      <td>-0.10597</td>\n",
       "      <td>-0.013053</td>\n",
       "      <td>0.019448</td>\n",
       "      <td>-0.008974</td>\n",
       "      <td>0.42684</td>\n",
       "      <td>1.0993</td>\n",
       "      <td>-10.0960</td>\n",
       "    </tr>\n",
       "    <tr>\n",
       "      <th>4</th>\n",
       "      <td>0_4</td>\n",
       "      <td>0</td>\n",
       "      <td>4</td>\n",
       "      <td>-0.75852</td>\n",
       "      <td>-0.63435</td>\n",
       "      <td>-0.10495</td>\n",
       "      <td>-0.10596</td>\n",
       "      <td>0.005135</td>\n",
       "      <td>0.007652</td>\n",
       "      <td>0.005245</td>\n",
       "      <td>-0.50969</td>\n",
       "      <td>1.4689</td>\n",
       "      <td>-10.4410</td>\n",
       "    </tr>\n",
       "  </tbody>\n",
       "</table>\n",
       "</div>"
      ]
     },
     "execution_count": 11,
     "metadata": {},
     "output_type": "execute_result"
    }
   ],
   "execution_count": 11
  },
  {
   "metadata": {
    "ExecuteTime": {
     "end_time": "2024-06-07T04:41:09.656797Z",
     "start_time": "2024-06-07T04:41:09.651789Z"
    }
   },
   "cell_type": "code",
   "source": [
    "FEATURE_COLUMNS = X_train.columns.tolist()[3:]\n",
    "FEATURE_COLUMNS"
   ],
   "id": "38541ebcd6163d3",
   "outputs": [
    {
     "data": {
      "text/plain": [
       "['orientation_X',\n",
       " 'orientation_Y',\n",
       " 'orientation_Z',\n",
       " 'orientation_W',\n",
       " 'angular_velocity_X',\n",
       " 'angular_velocity_Y',\n",
       " 'angular_velocity_Z',\n",
       " 'linear_acceleration_X',\n",
       " 'linear_acceleration_Y',\n",
       " 'linear_acceleration_Z']"
      ]
     },
     "execution_count": 12,
     "metadata": {},
     "output_type": "execute_result"
    }
   ],
   "execution_count": 12
  },
  {
   "metadata": {
    "ExecuteTime": {
     "end_time": "2024-06-07T04:44:18.218384Z",
     "start_time": "2024-06-07T04:44:18.211323Z"
    }
   },
   "cell_type": "code",
   "source": [
    "# Checking series or sequences are split or not\n",
    "(X_train.series_id.value_counts() == 128).sum() == len(y_train)  # True"
   ],
   "id": "9ef09c498cd62a03",
   "outputs": [
    {
     "data": {
      "text/plain": [
       "True"
      ]
     },
     "execution_count": 14,
     "metadata": {},
     "output_type": "execute_result"
    }
   ],
   "execution_count": 14
  },
  {
   "metadata": {
    "ExecuteTime": {
     "end_time": "2024-06-07T04:46:34.554188Z",
     "start_time": "2024-06-07T04:46:33.521529Z"
    }
   },
   "cell_type": "code",
   "source": [
    "sequences = []\n",
    "for series_id, group in X_train.groupby(\"series_id\"):\n",
    "    sequence_features = group[FEATURE_COLUMNS]\n",
    "    label = y_train[y_train.series_id == series_id].iloc[0].label\n",
    "    \n",
    "    sequences.append((sequence_features, label))"
   ],
   "id": "7ef1bf7fc099bee0",
   "outputs": [],
   "execution_count": 15
  },
  {
   "metadata": {
    "ExecuteTime": {
     "end_time": "2024-06-07T04:46:38.666033Z",
     "start_time": "2024-06-07T04:46:38.661391Z"
    }
   },
   "cell_type": "code",
   "source": "sequences[0]",
   "id": "a884933ee6446de",
   "outputs": [
    {
     "data": {
      "text/plain": [
       "(     orientation_X  orientation_Y  orientation_Z  orientation_W  \\\n",
       " 0         -0.75853       -0.63435       -0.10488       -0.10597   \n",
       " 1         -0.75853       -0.63434       -0.10490       -0.10600   \n",
       " 2         -0.75853       -0.63435       -0.10492       -0.10597   \n",
       " 3         -0.75852       -0.63436       -0.10495       -0.10597   \n",
       " 4         -0.75852       -0.63435       -0.10495       -0.10596   \n",
       " ..             ...            ...            ...            ...   \n",
       " 123       -0.75943       -0.63316       -0.10470       -0.10677   \n",
       " 124       -0.75945       -0.63313       -0.10473       -0.10683   \n",
       " 125       -0.75949       -0.63309       -0.10467       -0.10690   \n",
       " 126       -0.75950       -0.63307       -0.10464       -0.10693   \n",
       " 127       -0.75953       -0.63306       -0.10461       -0.10684   \n",
       " \n",
       "      angular_velocity_X  angular_velocity_Y  angular_velocity_Z  \\\n",
       " 0              0.107650            0.017561            0.000767   \n",
       " 1              0.067851            0.029939            0.003386   \n",
       " 2              0.007275            0.028934           -0.005978   \n",
       " 3             -0.013053            0.019448           -0.008974   \n",
       " 4              0.005135            0.007652            0.005245   \n",
       " ..                  ...                 ...                 ...   \n",
       " 123            0.041741            0.012857            0.016053   \n",
       " 124           -0.052041           -0.014752            0.021632   \n",
       " 125           -0.083083           -0.044480            0.031726   \n",
       " 126           -0.001305           -0.031012            0.017241   \n",
       " 127            0.073856            0.020353            0.018466   \n",
       " \n",
       "      linear_acceleration_X  linear_acceleration_Y  linear_acceleration_Z  \n",
       " 0                 -0.74857                2.10300                -9.7532  \n",
       " 1                  0.33995                1.50640                -9.4128  \n",
       " 2                 -0.26429                1.59220                -8.7267  \n",
       " 3                  0.42684                1.09930               -10.0960  \n",
       " 4                 -0.50969                1.46890               -10.4410  \n",
       " ..                     ...                    ...                    ...  \n",
       " 123               -0.80827                1.79890                -6.8687  \n",
       " 124               -0.36055                2.35620                -6.8926  \n",
       " 125               -0.98193                0.97328                -9.9795  \n",
       " 126               -0.72591                0.34931               -11.9770  \n",
       " 127               -0.53426                0.80346               -10.6970  \n",
       " \n",
       " [128 rows x 10 columns],\n",
       " 2)"
      ]
     },
     "execution_count": 16,
     "metadata": {},
     "output_type": "execute_result"
    }
   ],
   "execution_count": 16
  },
  {
   "metadata": {
    "ExecuteTime": {
     "end_time": "2024-06-07T04:47:39.644685Z",
     "start_time": "2024-06-07T04:47:39.640800Z"
    }
   },
   "cell_type": "code",
   "source": [
    "# Sequences are divided into train and test\n",
    "train_sequences, test_sequences = train_test_split(sequences, test_size=0.2)\n",
    "print(len(train_sequences), len(test_sequences))"
   ],
   "id": "c5c1a32d458aca05",
   "outputs": [
    {
     "name": "stdout",
     "output_type": "stream",
     "text": [
      "3048 762\n"
     ]
    }
   ],
   "execution_count": 17
  },
  {
   "metadata": {
    "ExecuteTime": {
     "end_time": "2024-06-07T04:46:52.257162Z",
     "start_time": "2024-06-07T04:46:52.254931Z"
    }
   },
   "cell_type": "code",
   "source": "",
   "id": "a25ccdb4f7aec9b2",
   "outputs": [],
   "execution_count": 16
  },
  {
   "metadata": {},
   "cell_type": "markdown",
   "source": "# Creating dataset",
   "id": "a0a1df7d02b5409b"
  },
  {
   "metadata": {
    "ExecuteTime": {
     "end_time": "2024-06-07T04:50:18.779997Z",
     "start_time": "2024-06-07T04:50:18.775520Z"
    }
   },
   "cell_type": "code",
   "source": [
    "class SurfaceDataset(Dataset):\n",
    "    def __init__(self, sequences):\n",
    "        self.sequences = sequences\n",
    "    \n",
    "    def __len__(self):\n",
    "        return len(self.sequences)\n",
    "    \n",
    "    def __getitem__(self, idx):\n",
    "        sequence, label = self.sequences[idx]\n",
    "        return dict(sequence=torch.Tensor(sequence.to_numpy()), label=torch.tensor(label).long())"
   ],
   "id": "700350e9782eb2e1",
   "outputs": [],
   "execution_count": 19
  },
  {
   "metadata": {
    "ExecuteTime": {
     "end_time": "2024-06-07T04:54:05.545390Z",
     "start_time": "2024-06-07T04:54:05.541518Z"
    }
   },
   "cell_type": "code",
   "source": [
    "train_dataset = SurfaceDataset(train_sequences)\n",
    "test_dataset = SurfaceDataset(test_sequences)\n",
    "\n",
    "train_loader = DataLoader(train_dataset, batch_size=128, shuffle=True, num_workers=cpu_count())\n",
    "test_loader = DataLoader(test_dataset, batch_size=128, shuffle=False, num_workers=cpu_count())"
   ],
   "id": "37223005c0377c94",
   "outputs": [],
   "execution_count": 22
  },
  {
   "metadata": {
    "ExecuteTime": {
     "end_time": "2024-06-07T04:54:40.806496Z",
     "start_time": "2024-06-07T04:54:40.803934Z"
    }
   },
   "cell_type": "code",
   "source": "",
   "id": "13539b8ff1711143",
   "outputs": [],
   "execution_count": 23
  },
  {
   "metadata": {},
   "cell_type": "markdown",
   "source": "# Model",
   "id": "5683aedc987b6e94"
  },
  {
   "metadata": {
    "ExecuteTime": {
     "end_time": "2024-06-07T04:59:49.763408Z",
     "start_time": "2024-06-07T04:59:49.757523Z"
    }
   },
   "cell_type": "code",
   "source": [
    "class SequenceModel(nn.Module):\n",
    "    def __init__(self, n_features, num_classes, n_hidden=128, n_layers=3):\n",
    "        super().__init__()\n",
    "        self.lstm = nn.LSTM(input_size=n_features, hidden_size=n_hidden, num_layers=n_layers, batch_first=True, dropout=0.75)\n",
    "        self.classifier = nn.Linear(n_hidden, num_classes)\n",
    "    \n",
    "    def forward(self, x):\n",
    "        self.lstm.flatten_parameters()  # For Multi-GPU purposes we flatten parameters\n",
    "        _, (hidden, _) = self.lstm(x)\n",
    "        \n",
    "        # Since it is the multi-layer net, take last output of the last state of the last layer\n",
    "        out = hidden[-1]\n",
    "        return self.classifier(out)\n",
    "        "
   ],
   "id": "a223875951645e5d",
   "outputs": [],
   "execution_count": 24
  },
  {
   "metadata": {
    "ExecuteTime": {
     "end_time": "2024-06-07T04:46:53.269770Z",
     "start_time": "2024-06-07T04:46:53.268191Z"
    }
   },
   "cell_type": "code",
   "source": [
    "model = SequenceModel(n_features=n_features, num_classes=n_classes)\n",
    "criterion = nn.CrossEntropyLoss()\n",
    "\n",
    "output = model(x)\n",
    "loss = 0\n",
    "if labels is not None:\n",
    "    loss = criterion(output, labels)\n"
   ],
   "id": "7fe95e8afa728628",
   "outputs": [],
   "execution_count": 16
  },
  {
   "metadata": {
    "ExecuteTime": {
     "end_time": "2024-06-07T04:46:53.412898Z",
     "start_time": "2024-06-07T04:46:53.411315Z"
    }
   },
   "cell_type": "code",
   "source": "",
   "id": "921feb9e253e91ad",
   "outputs": [],
   "execution_count": 16
  },
  {
   "metadata": {
    "ExecuteTime": {
     "end_time": "2024-06-07T04:46:53.539474Z",
     "start_time": "2024-06-07T04:46:53.537832Z"
    }
   },
   "cell_type": "code",
   "source": "",
   "id": "c5577f8be12143a6",
   "outputs": [],
   "execution_count": 16
  },
  {
   "metadata": {
    "ExecuteTime": {
     "end_time": "2024-06-07T04:46:53.657098Z",
     "start_time": "2024-06-07T04:46:53.655267Z"
    }
   },
   "cell_type": "code",
   "source": "",
   "id": "a2e98e3d83603f29",
   "outputs": [],
   "execution_count": 16
  },
  {
   "metadata": {
    "ExecuteTime": {
     "end_time": "2024-06-07T04:46:53.795844Z",
     "start_time": "2024-06-07T04:46:53.793727Z"
    }
   },
   "cell_type": "code",
   "source": "",
   "id": "6a16ff87d12e9d98",
   "outputs": [],
   "execution_count": 16
  },
  {
   "metadata": {
    "ExecuteTime": {
     "end_time": "2024-06-07T04:46:53.896753Z",
     "start_time": "2024-06-07T04:46:53.895094Z"
    }
   },
   "cell_type": "code",
   "source": "",
   "id": "b99881d7a9f97849",
   "outputs": [],
   "execution_count": 16
  },
  {
   "metadata": {
    "ExecuteTime": {
     "end_time": "2024-06-07T04:46:54.020653Z",
     "start_time": "2024-06-07T04:46:54.019107Z"
    }
   },
   "cell_type": "code",
   "source": "",
   "id": "f6689459d3e22dfd",
   "outputs": [],
   "execution_count": 16
  },
  {
   "metadata": {
    "ExecuteTime": {
     "end_time": "2024-06-07T04:46:54.135195Z",
     "start_time": "2024-06-07T04:46:54.133455Z"
    }
   },
   "cell_type": "code",
   "source": "",
   "id": "a629904ad5b55573",
   "outputs": [],
   "execution_count": 16
  },
  {
   "metadata": {
    "ExecuteTime": {
     "end_time": "2024-06-07T04:46:54.258398Z",
     "start_time": "2024-06-07T04:46:54.256550Z"
    }
   },
   "cell_type": "code",
   "source": "",
   "id": "797c16a68e71e90d",
   "outputs": [],
   "execution_count": 16
  },
  {
   "metadata": {},
   "cell_type": "code",
   "outputs": [],
   "execution_count": null,
   "source": "",
   "id": "c486b92672213b26"
  }
 ],
 "metadata": {
  "kernelspec": {
   "display_name": "Python 3",
   "language": "python",
   "name": "python3"
  },
  "language_info": {
   "codemirror_mode": {
    "name": "ipython",
    "version": 2
   },
   "file_extension": ".py",
   "mimetype": "text/x-python",
   "name": "python",
   "nbconvert_exporter": "python",
   "pygments_lexer": "ipython2",
   "version": "2.7.6"
  }
 },
 "nbformat": 4,
 "nbformat_minor": 5
}
