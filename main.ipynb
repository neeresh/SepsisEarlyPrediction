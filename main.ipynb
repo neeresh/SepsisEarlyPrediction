{
 "cells": [
  {
   "cell_type": "code",
   "id": "initial_id",
   "metadata": {
    "collapsed": true,
    "ExecuteTime": {
     "end_time": "2024-06-07T17:07:14.583218Z",
     "start_time": "2024-06-07T17:07:13.706121Z"
    }
   },
   "source": [
    "import pandas as pd\n",
    "import numpy as np\n",
    "from pytorch_lightning.utilities.types import OptimizerLRScheduler\n",
    "from tqdm.auto import tqdm\n",
    "\n",
    "import torch\n",
    "import torch.autograd as autograd\n",
    "import torch.nn as nn\n",
    "import torch.optim as optim\n",
    "import torch.nn.functional as F\n",
    "from torch.utils.data import Dataset, DataLoader\n",
    "\n",
    "import pytorch_lightning as pl\n",
    "import seaborn as sns\n",
    "from pylab import rcParams\n",
    "import matplotlib.pyplot as plt\n",
    "from matplotlib.ticker import MaxNLocator\n",
    "\n",
    "from sklearn.model_selection import train_test_split\n",
    "from sklearn.preprocessing import LabelEncoder\n",
    "\n",
    "from multiprocessing import cpu_count\n",
    "from pytorch_lightning.callbacks import ModelCheckpoint, EarlyStopping\n",
    "from pytorch_lightning.loggers import TensorBoardLogger\n",
    "from torchmetrics import Accuracy\n",
    "from sklearn.metrics import classification_report, confusion_matrix\n",
    "\n",
    "%matplotlib inline\n",
    "%config InlineBackend.figure_format='retina'\n",
    "sns.set(style='whitegrid', palette='muted')\n",
    "HAPPY_COLORS_PALETTE = [\"#01BEFE\", \"#FFDD00\", \"#FF7D00\", \"#FF006D\", \"#ADFF02\", \"#8F00FF\"]\n",
    "sns.set_palette(sns.color_palette(HAPPY_COLORS_PALETTE))\n",
    "rcParams['figure.figsize'] = 16, 10\n",
    "\n",
    "# Reproducibility\n",
    "RANDOM_SEED = 42\n",
    "pl.seed_everything(42)\n",
    "np.random.seed(RANDOM_SEED)\n",
    "torch.manual_seed(RANDOM_SEED)"
   ],
   "execution_count": 1,
   "outputs": []
  },
  {
   "metadata": {
    "ExecuteTime": {
     "end_time": "2024-06-07T17:07:14.902293Z",
     "start_time": "2024-06-07T17:07:14.583831Z"
    }
   },
   "cell_type": "code",
   "source": [
    "X_train = pd.read_csv(\"./data/career-con-2019/X_train.csv\")\n",
    "y_train = pd.read_csv(\"./data/career-con-2019/y_train.csv\")"
   ],
   "id": "3cd44679b11a0b15",
   "execution_count": 2,
   "outputs": []
  },
  {
   "metadata": {
    "ExecuteTime": {
     "end_time": "2024-06-07T17:07:15.164898Z",
     "start_time": "2024-06-07T17:07:14.902933Z"
    }
   },
   "cell_type": "code",
   "source": [
    "y_train.surface.value_counts().plot(kind='bar')\n",
    "plt.xticks(rotation=30)\n",
    "plt.show()\n",
    "plt.close()"
   ],
   "id": "fe436667691ecf90",
   "execution_count": 3,
   "outputs": []
  },
  {
   "metadata": {},
   "cell_type": "markdown",
   "source": "# Data Pre-processing",
   "id": "2775d5a0ff51ceda"
  },
  {
   "metadata": {},
   "cell_type": "markdown",
   "source": "- **Integers to strings**",
   "id": "fb288c653569ff95"
  },
  {
   "metadata": {
    "ExecuteTime": {
     "end_time": "2024-06-07T17:07:15.168023Z",
     "start_time": "2024-06-07T17:07:15.165698Z"
    }
   },
   "cell_type": "code",
   "source": [
    "label_encoder = LabelEncoder()\n",
    "encoded_labels = label_encoder.fit_transform(y_train.surface)\n",
    "\n",
    "for enc_label, label_name in zip(encoded_labels, label_encoder.classes_):\n",
    "    print(f\"Original Label -> encoded label: {label_name} -> {enc_label}\")"
   ],
   "id": "b3b4192482e6d2df",
   "execution_count": 4,
   "outputs": []
  },
  {
   "metadata": {
    "ExecuteTime": {
     "end_time": "2024-06-07T17:07:15.187629Z",
     "start_time": "2024-06-07T17:07:15.168478Z"
    }
   },
   "cell_type": "code",
   "source": [
    "y_train[\"label\"] = encoded_labels\n",
    "y_train.head()"
   ],
   "id": "9aa5769ed324f8cf",
   "execution_count": 5,
   "outputs": []
  },
  {
   "metadata": {
    "ExecuteTime": {
     "end_time": "2024-06-07T17:07:15.204193Z",
     "start_time": "2024-06-07T17:07:15.188114Z"
    }
   },
   "cell_type": "code",
   "source": "X_train.head()",
   "id": "6fe6021b741a5471",
   "execution_count": 6,
   "outputs": []
  },
  {
   "metadata": {
    "ExecuteTime": {
     "end_time": "2024-06-07T17:07:15.218225Z",
     "start_time": "2024-06-07T17:07:15.204677Z"
    }
   },
   "cell_type": "code",
   "source": [
    "FEATURE_COLUMNS = X_train.columns.tolist()[3:]\n",
    "FEATURE_COLUMNS"
   ],
   "id": "38541ebcd6163d3",
   "execution_count": 7,
   "outputs": []
  },
  {
   "metadata": {
    "ExecuteTime": {
     "end_time": "2024-06-07T17:07:15.234241Z",
     "start_time": "2024-06-07T17:07:15.218800Z"
    }
   },
   "cell_type": "code",
   "source": [
    "# Checking series or sequences are split or not\n",
    "(X_train.series_id.value_counts() == 128).sum() == len(y_train)  # True"
   ],
   "id": "9ef09c498cd62a03",
   "execution_count": 8,
   "outputs": []
  },
  {
   "metadata": {
    "ExecuteTime": {
     "end_time": "2024-06-07T17:07:16.415079Z",
     "start_time": "2024-06-07T17:07:15.234819Z"
    }
   },
   "cell_type": "code",
   "source": [
    "sequences = []\n",
    "for series_id, group in X_train.groupby(\"series_id\"):\n",
    "    sequence_features = group[FEATURE_COLUMNS]\n",
    "    label = y_train[y_train.series_id == series_id].iloc[0].label\n",
    "    \n",
    "    sequences.append((sequence_features, label))"
   ],
   "id": "7ef1bf7fc099bee0",
   "execution_count": 9,
   "outputs": []
  },
  {
   "metadata": {
    "ExecuteTime": {
     "end_time": "2024-06-07T17:07:16.420632Z",
     "start_time": "2024-06-07T17:07:16.416326Z"
    }
   },
   "cell_type": "code",
   "source": "sequences[0]",
   "id": "a884933ee6446de",
   "execution_count": 10,
   "outputs": []
  },
  {
   "metadata": {
    "ExecuteTime": {
     "end_time": "2024-06-07T17:07:16.437739Z",
     "start_time": "2024-06-07T17:07:16.421245Z"
    }
   },
   "cell_type": "code",
   "source": [
    "# Sequences are divided into train and test\n",
    "train_sequences, test_sequences = train_test_split(sequences, test_size=0.2)\n",
    "print(len(train_sequences), len(test_sequences))"
   ],
   "id": "c5c1a32d458aca05",
   "execution_count": 11,
   "outputs": []
  },
  {
   "metadata": {
    "ExecuteTime": {
     "end_time": "2024-06-07T17:07:16.439387Z",
     "start_time": "2024-06-07T17:07:16.438214Z"
    }
   },
   "cell_type": "code",
   "source": "",
   "id": "a25ccdb4f7aec9b2",
   "execution_count": 11,
   "outputs": []
  },
  {
   "metadata": {},
   "cell_type": "markdown",
   "source": "# Creating dataset",
   "id": "a0a1df7d02b5409b"
  },
  {
   "metadata": {
    "ExecuteTime": {
     "end_time": "2024-06-07T17:07:16.446257Z",
     "start_time": "2024-06-07T17:07:16.439815Z"
    }
   },
   "cell_type": "code",
   "source": [
    "class SurfaceDataset(Dataset):\n",
    "    def __init__(self, sequences):\n",
    "        self.sequences = sequences\n",
    "    \n",
    "    def __len__(self):\n",
    "        return len(self.sequences)\n",
    "    \n",
    "    def __getitem__(self, idx):\n",
    "        sequence, label = self.sequences[idx]\n",
    "        return dict(sequence=torch.Tensor(sequence.to_numpy()), label=torch.tensor(label).long())"
   ],
   "id": "700350e9782eb2e1",
   "execution_count": 12,
   "outputs": []
  },
  {
   "metadata": {
    "ExecuteTime": {
     "end_time": "2024-06-07T17:07:16.455064Z",
     "start_time": "2024-06-07T17:07:16.446733Z"
    }
   },
   "cell_type": "code",
   "source": [
    "class SurfaceDataModule(pl.LightningDataModule):\n",
    "    def __init__(self, train_sequences, test_sequences, batch_size):\n",
    "        super().__init__()\n",
    "        self.train_sequences = train_sequences\n",
    "        self.test_sequences = test_sequences\n",
    "        self.batch_size = batch_size\n",
    "        \n",
    "    def setup(self, stage=None):\n",
    "        self.train_dataset = SurfaceDataset(self.train_sequences)\n",
    "        self.test_dataset = SurfaceDataset(self.test_sequences)\n",
    "    \n",
    "    def train_dataloader(self):\n",
    "        return DataLoader(self.train_dataset, batch_size=self.batch_size, shuffle=True, num_workers=cpu_count())\n",
    "    \n",
    "    def val_dataloader(self):\n",
    "        return DataLoader(self.test_dataset, batch_size=self.batch_size, shuffle=False, num_workers=cpu_count())\n",
    "    \n",
    "    def test_dataloader(self):\n",
    "        return DataLoader(self.test_dataset, batch_size=self.batch_size, shuffle=False, num_workers=cpu_count())"
   ],
   "id": "37223005c0377c94",
   "execution_count": 13,
   "outputs": []
  },
  {
   "metadata": {
    "ExecuteTime": {
     "end_time": "2024-06-07T17:07:16.463528Z",
     "start_time": "2024-06-07T17:07:16.455575Z"
    }
   },
   "cell_type": "code",
   "source": [
    "N_EPOCHS = 250\n",
    "BATCH_SIZE = 64\n",
    "\n",
    "data_module = SurfaceDataModule(train_sequences, test_sequences, BATCH_SIZE)"
   ],
   "id": "13539b8ff1711143",
   "execution_count": 14,
   "outputs": []
  },
  {
   "metadata": {
    "ExecuteTime": {
     "end_time": "2024-06-07T17:07:16.465035Z",
     "start_time": "2024-06-07T17:07:16.463974Z"
    }
   },
   "cell_type": "code",
   "source": "",
   "id": "5a2643b19bb199dd",
   "execution_count": 14,
   "outputs": []
  },
  {
   "metadata": {},
   "cell_type": "markdown",
   "source": "# Model",
   "id": "5683aedc987b6e94"
  },
  {
   "metadata": {
    "ExecuteTime": {
     "end_time": "2024-06-07T17:07:16.472284Z",
     "start_time": "2024-06-07T17:07:16.465520Z"
    }
   },
   "cell_type": "code",
   "source": [
    "class SequenceModel(nn.Module):\n",
    "    def __init__(self, n_features, num_classes, n_hidden=256, n_layers=3):\n",
    "        super().__init__()\n",
    "        self.lstm = nn.LSTM(input_size=n_features, hidden_size=n_hidden, num_layers=n_layers, batch_first=True, dropout=0.75)\n",
    "        self.classifier = nn.Linear(n_hidden, num_classes)\n",
    "    \n",
    "    def forward(self, x):\n",
    "        self.lstm.flatten_parameters()  # For Multi-GPU purposes we flatten parameters\n",
    "        _, (hidden, _) = self.lstm(x)\n",
    "        \n",
    "        # Since it is the multi-layer net, take last output of the last state of the last layer\n",
    "        out = hidden[-1]\n",
    "        return self.classifier(out)\n",
    "        "
   ],
   "id": "a223875951645e5d",
   "execution_count": 15,
   "outputs": []
  },
  {
   "metadata": {
    "ExecuteTime": {
     "end_time": "2024-06-07T17:07:16.485586Z",
     "start_time": "2024-06-07T17:07:16.472893Z"
    }
   },
   "cell_type": "code",
   "source": [
    "from torchmetrics.classification import MulticlassAccuracy\n",
    "\n",
    "\n",
    "class SurfacePredictor(pl.LightningModule):\n",
    "    def __init__(self, n_features, num_classes):\n",
    "        super().__init__()\n",
    "        self.model = SequenceModel(n_features=n_features, num_classes=num_classes)\n",
    "        self.criterion = nn.CrossEntropyLoss()\n",
    "        \n",
    "        self.train_accuracy = MulticlassAccuracy(num_classes=num_classes)\n",
    "        self.val_accuracy = MulticlassAccuracy(num_classes=num_classes)\n",
    "        self.test_accuracy = MulticlassAccuracy(num_classes=num_classes)\n",
    "\n",
    "    def forward(self, x, labels=None):\n",
    "        output = self.model(x)\n",
    "        loss = 0\n",
    "        if labels is not None:\n",
    "            loss = self.criterion(output, labels)\n",
    "        return loss, output\n",
    "\n",
    "    def training_step(self, batch, batch_idx):\n",
    "        sequences = batch[\"sequence\"]\n",
    "        labels = batch[\"label\"]\n",
    "        loss, outputs = self(sequences, labels)\n",
    "        predictions = torch.argmax(outputs, dim=1)\n",
    "        \n",
    "        self.train_accuracy.update(predictions, labels)\n",
    "\n",
    "        self.log(\"train_loss\", loss, prog_bar=True, logger=True)\n",
    "        self.log(\"train_accuracy\", self.train_accuracy, prog_bar=True, logger=True)\n",
    "\n",
    "        return {\"loss\": loss, \"accuracy\": self.train_accuracy}\n",
    "\n",
    "    def validation_step(self, batch, batch_idx):\n",
    "        sequences = batch[\"sequence\"]\n",
    "        labels = batch[\"label\"]\n",
    "        loss, outputs = self(sequences, labels)\n",
    "        predictions = torch.argmax(outputs, dim=1)\n",
    "        self.val_accuracy.update(predictions, labels)\n",
    "\n",
    "        self.log(\"val_loss\", loss, prog_bar=True, logger=True)\n",
    "        self.log(\"val_accuracy\", self.val_accuracy, prog_bar=True, logger=True)\n",
    "\n",
    "        return {\"loss\": loss, \"accuracy\": self.val_accuracy}\n",
    "\n",
    "    def test_step(self, batch, batch_idx):\n",
    "        sequences = batch[\"sequence\"]\n",
    "        labels = batch[\"label\"]\n",
    "        loss, outputs = self(sequences, labels)\n",
    "        predictions = torch.argmax(outputs, dim=1)\n",
    "        self.test_accuracy.update(predictions, labels)\n",
    "\n",
    "        self.log(\"test_loss\", loss, prog_bar=True, logger=True)\n",
    "        self.log(\"test_accuracy\", self.test_accuracy, prog_bar=True, logger=True)\n",
    "\n",
    "        return {\"loss\": loss, \"accuracy\": self.test_accuracy}\n",
    "\n",
    "    def configure_optimizers(self):\n",
    "        return optim.Adam(self.parameters(), lr=0.0001)"
   ],
   "id": "7fe95e8afa728628",
   "execution_count": 16,
   "outputs": []
  },
  {
   "metadata": {
    "ExecuteTime": {
     "end_time": "2024-06-07T17:07:16.503898Z",
     "start_time": "2024-06-07T17:07:16.486262Z"
    }
   },
   "cell_type": "code",
   "source": "model = SurfacePredictor(n_features=len(FEATURE_COLUMNS), num_classes=len(label_encoder.classes_))",
   "id": "921feb9e253e91ad",
   "execution_count": 17,
   "outputs": []
  },
  {
   "metadata": {
    "ExecuteTime": {
     "end_time": "2024-06-07T17:07:17.012406Z",
     "start_time": "2024-06-07T17:07:16.504773Z"
    }
   },
   "cell_type": "code",
   "source": [
    "%load_ext tensorboard\n",
    "%tensorboard --logdir ./lightning_logs"
   ],
   "id": "c5577f8be12143a6",
   "execution_count": 18,
   "outputs": []
  },
  {
   "metadata": {
    "ExecuteTime": {
     "end_time": "2024-06-07T17:07:17.073602Z",
     "start_time": "2024-06-07T17:07:17.013250Z"
    }
   },
   "cell_type": "code",
   "source": [
    "checkpoint_callback = ModelCheckpoint(\n",
    "    dirpath=\"checkpoints\",\n",
    "    filename=\"best-checkpoint\",\n",
    "    save_top_k=1,\n",
    "    verbose=True,\n",
    "    monitor=\"val_loss\",\n",
    "    mode=\"min\"\n",
    ")\n",
    "\n",
    "logger = TensorBoardLogger(\"lightning_logs\", name=\"surface\")\n",
    "trainer = pl.Trainer(logger=logger, callbacks=checkpoint_callback, max_epochs=N_EPOCHS, enable_progress_bar=True)"
   ],
   "id": "a2e98e3d83603f29",
   "execution_count": 19,
   "outputs": []
  },
  {
   "metadata": {
    "ExecuteTime": {
     "end_time": "2024-06-07T17:16:25.456698Z",
     "start_time": "2024-06-07T17:07:17.074103Z"
    }
   },
   "cell_type": "code",
   "source": [
    "torch.set_float32_matmul_precision('medium')\n",
    "trainer.fit(model, data_module)"
   ],
   "id": "6a16ff87d12e9d98",
   "execution_count": 20,
   "outputs": []
  },
  {
   "metadata": {
    "ExecuteTime": {
     "end_time": "2024-06-07T17:16:26.412360Z",
     "start_time": "2024-06-07T17:16:25.457428Z"
    }
   },
   "cell_type": "code",
   "source": [
    "# Final result\n",
    "test_loader = data_module.test_dataloader()\n",
    "trainer.test(dataloaders=test_loader)"
   ],
   "id": "b99881d7a9f97849",
   "execution_count": 21,
   "outputs": []
  },
  {
   "metadata": {
    "ExecuteTime": {
     "end_time": "2024-06-07T17:16:26.450825Z",
     "start_time": "2024-06-07T17:16:26.412926Z"
    }
   },
   "cell_type": "code",
   "source": [
    "# Predictions\n",
    "trained_model = SurfacePredictor.load_from_checkpoint(trainer.checkpoint_callback.best_model_path,\n",
    "                                                      n_features=len(FEATURE_COLUMNS),\n",
    "                                                      num_classes=len(label_encoder.classes_))\n",
    "\n",
    "trained_model.freeze()"
   ],
   "id": "f6689459d3e22dfd",
   "execution_count": 22,
   "outputs": []
  },
  {
   "metadata": {
    "ExecuteTime": {
     "end_time": "2024-06-07T17:16:27.714503Z",
     "start_time": "2024-06-07T17:16:26.451388Z"
    }
   },
   "cell_type": "code",
   "source": [
    "# Soring new data\n",
    "test_dataset = SurfaceDataset(test_sequences)\n",
    "\n",
    "predictions = []\n",
    "labels = []\n",
    "\n",
    "for item in tqdm(test_dataset):\n",
    "    sequence = item[\"sequence\"]\n",
    "    label = item['label']\n",
    "    \n",
    "    _, output = trained_model(sequence.unsqueeze(dim=0).to('cuda'))\n",
    "    prediction = torch.argmax(output, dim=1)\n",
    "    predictions.append(prediction.item())\n",
    "\n",
    "    labels.append((label.item()))"
   ],
   "id": "a629904ad5b55573",
   "execution_count": 23,
   "outputs": []
  },
  {
   "metadata": {
    "ExecuteTime": {
     "end_time": "2024-06-07T17:16:27.720956Z",
     "start_time": "2024-06-07T17:16:27.714986Z"
    }
   },
   "cell_type": "code",
   "source": "print(classification_report(labels, predictions, target_names=label_encoder.classes_))",
   "id": "797c16a68e71e90d",
   "execution_count": 24,
   "outputs": []
  },
  {
   "metadata": {
    "ExecuteTime": {
     "end_time": "2024-06-07T17:16:27.734180Z",
     "start_time": "2024-06-07T17:16:27.721435Z"
    }
   },
   "cell_type": "code",
   "source": [
    "def show_confusion_matrix(confusion_matrix):\n",
    "    hmap = sns.heatmap(confusion_matrix, annot=True, fmt='d', cmap='Blues')\n",
    "    hmap.yaxis.set_ticklabels(hmap.yaxis.get_ticklabels(), rotation=0, ha='right')\n",
    "    hmap.yaxis.set_ticklabels(hmap.xaxis.get_ticklabels(), rotation=30, ha='right')\n",
    "    \n",
    "    plt.ylabel('True surface')\n",
    "    plt.xlabel('Predicted surface')"
   ],
   "id": "c486b92672213b26",
   "execution_count": 25,
   "outputs": []
  },
  {
   "metadata": {
    "ExecuteTime": {
     "end_time": "2024-06-07T17:16:27.746745Z",
     "start_time": "2024-06-07T17:16:27.735640Z"
    }
   },
   "cell_type": "code",
   "source": [
    "cm = confusion_matrix(labels, predictions)\n",
    "df_cm = pd.DataFrame(cm, index=label_encoder.classes_, columns=label_encoder.classes_)\n",
    "df_cm"
   ],
   "id": "fcdb03a6191d66b6",
   "execution_count": 26,
   "outputs": []
  },
  {
   "metadata": {
    "ExecuteTime": {
     "end_time": "2024-06-07T17:16:28.074136Z",
     "start_time": "2024-06-07T17:16:27.747353Z"
    }
   },
   "cell_type": "code",
   "source": "show_confusion_matrix(df_cm)",
   "id": "c2fa002c4249ef97",
   "execution_count": 27,
   "outputs": []
  },
  {
   "metadata": {
    "ExecuteTime": {
     "end_time": "2024-06-07T21:55:32.181010Z",
     "start_time": "2024-06-07T21:55:32.178519Z"
    }
   },
   "cell_type": "code",
   "source": "",
   "id": "19aa343afcaf5743",
   "execution_count": 31,
   "outputs": []
  }
 ],
 "metadata": {
  "kernelspec": {
   "display_name": "Python 3",
   "language": "python",
   "name": "python3"
  },
  "language_info": {
   "codemirror_mode": {
    "name": "ipython",
    "version": 2
   },
   "file_extension": ".py",
   "mimetype": "text/x-python",
   "name": "python",
   "nbconvert_exporter": "python",
   "pygments_lexer": "ipython2",
   "version": "2.7.6"
  }
 },
 "nbformat": 4,
 "nbformat_minor": 5
}
