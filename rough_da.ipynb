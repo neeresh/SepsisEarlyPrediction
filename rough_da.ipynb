{
 "cells": [
  {
   "cell_type": "code",
   "id": "initial_id",
   "metadata": {
    "collapsed": true,
    "ExecuteTime": {
     "end_time": "2024-09-27T17:00:06.466268Z",
     "start_time": "2024-09-27T17:00:06.464329Z"
    }
   },
   "source": [
    ""
   ],
   "execution_count": null,
   "outputs": []
  },
  {
   "metadata": {
    "ExecuteTime": {
     "end_time": "2024-09-27T17:00:06.526152Z",
     "start_time": "2024-09-27T17:00:06.524582Z"
    }
   },
   "cell_type": "code",
   "source": "",
   "id": "e8e9ffc68aa28162",
   "execution_count": null,
   "outputs": []
  },
  {
   "metadata": {
    "ExecuteTime": {
     "end_time": "2024-09-27T17:00:06.540602Z",
     "start_time": "2024-09-27T17:00:06.538611Z"
    }
   },
   "cell_type": "code",
   "source": "",
   "id": "711a38a7927dcfd",
   "execution_count": null,
   "outputs": []
  },
  {
   "metadata": {
    "ExecuteTime": {
     "end_time": "2024-09-27T17:00:06.543191Z",
     "start_time": "2024-09-27T17:00:06.541577Z"
    }
   },
   "cell_type": "code",
   "source": "",
   "id": "9c93f9c72982faa0",
   "execution_count": null,
   "outputs": []
  },
  {
   "metadata": {
    "ExecuteTime": {
     "end_time": "2024-09-27T17:00:06.545506Z",
     "start_time": "2024-09-27T17:00:06.544065Z"
    }
   },
   "cell_type": "code",
   "source": "",
   "id": "ed3e21964d7bee89",
   "execution_count": null,
   "outputs": []
  },
  {
   "metadata": {
    "ExecuteTime": {
     "end_time": "2024-09-27T17:00:06.547971Z",
     "start_time": "2024-09-27T17:00:06.546455Z"
    }
   },
   "cell_type": "code",
   "source": "",
   "id": "2af31b41c0d70a19",
   "execution_count": null,
   "outputs": []
  },
  {
   "metadata": {
    "ExecuteTime": {
     "end_time": "2024-09-27T17:00:08.915061Z",
     "start_time": "2024-09-27T17:00:06.548660Z"
    }
   },
   "cell_type": "code",
   "source": [
    "import os\n",
    "\n",
    "from utils.path_utils import project_root\n",
    "import torch\n",
    "\n",
    "from models.adatime.da.models import get_backbone_class\n",
    "from models.adatime.da.algorithms import get_algorithm_class\n",
    "\n",
    "from models.adatime.configs.get_configs import Config\n",
    "\n",
    "import pandas as pd\n"
   ],
   "id": "675c0989bc123bc0",
   "execution_count": 1,
   "outputs": []
  },
  {
   "metadata": {
    "ExecuteTime": {
     "end_time": "2024-09-27T17:00:08.918408Z",
     "start_time": "2024-09-27T17:00:08.916692Z"
    }
   },
   "cell_type": "code",
   "source": "",
   "id": "d1661482a05ae2a3",
   "execution_count": 1,
   "outputs": []
  },
  {
   "metadata": {
    "ExecuteTime": {
     "end_time": "2024-09-27T17:00:08.921253Z",
     "start_time": "2024-09-27T17:00:08.919364Z"
    }
   },
   "cell_type": "code",
   "source": [
    "# setA = pd.read_pickle(os.path.join(project_root(), 'data', 'tl_datasets', 'final_dataset_pretrain_A.pickle'))\n",
    "# setA_sepsis = pd.read_csv(os.path.join(project_root(), 'data', 'tl_datasets', 'is_sepsis_pretrain_A.txt'),\n",
    "#                           header=None)\n",
    "# print(f\"Found {len(setA)}\")\n"
   ],
   "id": "fa54ef799d6a96fc",
   "execution_count": 2,
   "outputs": []
  },
  {
   "metadata": {
    "ExecuteTime": {
     "end_time": "2024-09-27T17:00:08.949114Z",
     "start_time": "2024-09-27T17:00:08.922145Z"
    }
   },
   "cell_type": "code",
   "source": "# type(setA_sepsis)",
   "id": "e60749fc17db38ff",
   "execution_count": 3,
   "outputs": []
  },
  {
   "metadata": {
    "ExecuteTime": {
     "end_time": "2024-09-27T17:00:08.951279Z",
     "start_time": "2024-09-27T17:00:08.949984Z"
    }
   },
   "cell_type": "code",
   "source": "",
   "id": "15429ca25fd49b2d",
   "execution_count": 3,
   "outputs": []
  },
  {
   "metadata": {
    "ExecuteTime": {
     "end_time": "2024-09-27T17:00:08.979166Z",
     "start_time": "2024-09-27T17:00:08.952106Z"
    }
   },
   "cell_type": "code",
   "source": [
    "# with open(os.path.join(project_root(), 'data', 'tl_datasets', 'is_sepsis_pretrain_A.txt')) as f:\n",
    "#     is_sepsis = [int(is_sep) for is_sep in f.read().splitlines()]\n",
    "# \n",
    "# print(f\"Found {len(is_sepsis)}\")"
   ],
   "id": "f788a0bba05075fe",
   "execution_count": 4,
   "outputs": []
  },
  {
   "metadata": {
    "ExecuteTime": {
     "end_time": "2024-09-27T17:00:08.981511Z",
     "start_time": "2024-09-27T17:00:08.980009Z"
    }
   },
   "cell_type": "code",
   "source": "",
   "id": "33d7457bd689010b",
   "execution_count": 4,
   "outputs": []
  },
  {
   "metadata": {
    "ExecuteTime": {
     "end_time": "2024-09-27T17:00:09.006313Z",
     "start_time": "2024-09-27T17:00:08.982201Z"
    }
   },
   "cell_type": "code",
   "source": [
    "# import numpy as np\n",
    "# \n",
    "# sepsis = pd.Series(is_sepsis)\n",
    "# \n",
    "# positive_sepsis_idxs = sepsis[sepsis == 1].index\n",
    "# negative_sepsis_idxs = sepsis[sepsis == 0].sample(frac=0.50).index\n",
    "# all_samples = list(positive_sepsis_idxs) + list(negative_sepsis_idxs)\n",
    "# np.random.shuffle(all_samples)\n"
   ],
   "id": "db7ef0ed8d8ea230",
   "execution_count": 5,
   "outputs": []
  },
  {
   "metadata": {
    "ExecuteTime": {
     "end_time": "2024-09-27T17:00:30.344686Z",
     "start_time": "2024-09-27T17:00:09.006989Z"
    }
   },
   "cell_type": "code",
   "source": [
    "\n",
    "import numpy as np\n",
    "import pandas as pd\n",
    "import os\n",
    "\n",
    "import tqdm\n",
    "\n",
    "from utils.path_utils import project_root\n",
    "\n",
    "def get_subset_of_setA():\n",
    "    with open(os.path.join(project_root(), 'data', 'tl_datasets', 'is_sepsis_pretrain_A.txt')) as f:\n",
    "        is_sepsis = [int(is_sep) for is_sep in f.read().splitlines()]\n",
    "\n",
    "    print(f\"Found {len(is_sepsis)}\")\n",
    "    \n",
    "    sepsis = pd.Series(is_sepsis)\n",
    "    positive_sepsis_idxs = sepsis[sepsis == 1].index\n",
    "    negative_sepsis_idxs = sepsis[sepsis == 0].sample(frac=0.50, random_state=2024).index\n",
    "    all_samples = list(positive_sepsis_idxs) + list(negative_sepsis_idxs)\n",
    "    np.random.shuffle(all_samples)\n",
    "    \n",
    "    # Filtering files (Making data balanced)\n",
    "    setA = pd.read_pickle(os.path.join(project_root(), 'data', \n",
    "                                       'tl_datasets', 'final_dataset_pretrain_A.pickle'))\n",
    "    # subsetA = [setA[idx] for idx in all_samples]\n",
    "    subsetA = []\n",
    "    for idx in tqdm.tqdm(all_samples, desc='Subset', total=len(all_samples)):\n",
    "        subsetA.append(setA[idx].drop(['PatientID', 'SepsisLabel'], axis=1))\n",
    "    subsetA_sepsis = [sepsis[idx] for idx in all_samples]\n",
    "        \n",
    "    print(f\"Total number of samples for pre-training: {len(subsetA)}\")\n",
    "    \n",
    "    # Converting files to pt\n",
    "    \n",
    "    return subsetA, subsetA_sepsis\n",
    "\n",
    "subsetA, subsetA_sepsis = get_subset_of_setA()\n"
   ],
   "id": "2bba29c6a2ddb50c",
   "execution_count": 6,
   "outputs": []
  },
  {
   "metadata": {
    "ExecuteTime": {
     "end_time": "2024-09-27T17:00:30.361669Z",
     "start_time": "2024-09-27T17:00:30.351967Z"
    }
   },
   "cell_type": "code",
   "source": "",
   "id": "f18d9697b4550457",
   "execution_count": 6,
   "outputs": []
  },
  {
   "metadata": {
    "ExecuteTime": {
     "end_time": "2024-09-27T17:00:33.338522Z",
     "start_time": "2024-09-27T17:00:30.363867Z"
    }
   },
   "cell_type": "code",
   "source": [
    "\n",
    "import tqdm\n",
    "\n",
    "\n",
    "def csv_to_pt(patient_files, is_sepsis, desc):\n",
    "    \n",
    "    all_patients = {'samples': [], 'labels': []}\n",
    "    \n",
    "    max_time_step = 336\n",
    "    for idx, (file, sepsis) in tqdm.tqdm(enumerate(zip(patient_files, is_sepsis)), \n",
    "                                                      desc=f\"{desc}\", \n",
    "                                                      total=len(patient_files)):\n",
    "        \n",
    "        pad_width = ((0, max_time_step - len(file)), (0, 0))\n",
    "        file = np.pad(file, pad_width=pad_width, mode='constant').astype(np.float32)\n",
    "        \n",
    "        all_patients['samples'].append(torch.from_numpy(file).unsqueeze(0))\n",
    "        all_patients['labels'].append(torch.tensor(sepsis, dtype=torch.float32).unsqueeze(0))\n",
    "        \n",
    "    all_patients['samples'] = torch.cat(all_patients['samples'], dim=0)\n",
    "    all_patients['labels'] = torch.cat(all_patients['labels'], dim=0)\n",
    "    \n",
    "    return {'samples': all_patients['samples'], 'labels': all_patients['labels']}, is_sepsis\n",
    "\n",
    "all_patients, is_sepsis = csv_to_pt(subsetA, subsetA_sepsis, desc='SubsetA')\n"
   ],
   "id": "b83fbdc8ce438891",
   "execution_count": 7,
   "outputs": []
  },
  {
   "metadata": {
    "ExecuteTime": {
     "end_time": "2024-09-27T17:00:33.929933Z",
     "start_time": "2024-09-27T17:00:33.339836Z"
    }
   },
   "cell_type": "code",
   "source": "torch.save(all_patients, os.path.join(project_root(), 'data', 'tl_datasets', 'pretrain', 'pretrain_subset.pt'))",
   "id": "436a6c5dbca9b05d",
   "execution_count": 8,
   "outputs": []
  },
  {
   "metadata": {
    "ExecuteTime": {
     "end_time": "2024-09-27T17:00:33.932608Z",
     "start_time": "2024-09-27T17:00:33.930875Z"
    }
   },
   "cell_type": "code",
   "source": "",
   "id": "5dd5de699f9eaab4",
   "execution_count": 8,
   "outputs": []
  },
  {
   "metadata": {
    "ExecuteTime": {
     "end_time": "2024-09-27T17:00:33.936455Z",
     "start_time": "2024-09-27T17:00:33.933393Z"
    }
   },
   "cell_type": "code",
   "source": "-",
   "id": "f23d7d7777b62115",
   "execution_count": 9,
   "outputs": []
  },
  {
   "metadata": {},
   "cell_type": "code",
   "source": "",
   "id": "d3e3c37b197422e8",
   "execution_count": null,
   "outputs": []
  },
  {
   "metadata": {
    "ExecuteTime": {
     "end_time": "2024-09-27T17:00:33.945414Z",
     "start_time": "2024-09-27T17:00:33.945138Z"
    }
   },
   "cell_type": "code",
   "source": [
    "da_name = 'DIRT'\n",
    "model_path = os.path.join(project_root(), 'results', 'adatime', f'{da_name}',\n",
    "                              'pretrain_finetune', f'{da_name}_{da_name}_gtn', '0_to_1_run_0',\n",
    "                              'checkpoint.pt')\n",
    "pretrained_dict = torch.load(model_path)\n",
    "pretrained_model = pretrained_dict['best']\n"
   ],
   "id": "d03787f81472c666",
   "execution_count": null,
   "outputs": []
  },
  {
   "metadata": {},
   "cell_type": "code",
   "source": "pretrained_model",
   "id": "946735f6cc65f59c",
   "execution_count": null,
   "outputs": []
  },
  {
   "metadata": {},
   "cell_type": "code",
   "source": [
    "from models.adatime.da.models import get_backbone_class, GTN, classifier, codats_classifier\n",
    "import torch.nn as nn\n",
    "from models.adatime.configs.get_configs import Config\n",
    "\n",
    "config = Config()\n",
    "original_feature_extactor = GTN(config)\n",
    "original_classifier = classifier(config)\n",
    "model = nn.Sequential(original_feature_extactor, original_classifier)\n",
    "model.load_state_dict(pretrained_model)  # Loading weights\n"
   ],
   "id": "1a09e9f29f5ee9de",
   "execution_count": null,
   "outputs": []
  },
  {
   "metadata": {},
   "cell_type": "code",
   "source": "model.state_dict()\n",
   "id": "412443c64c057e5b",
   "execution_count": null,
   "outputs": []
  },
  {
   "metadata": {},
   "cell_type": "code",
   "source": "",
   "id": "3fcea75ebad42989",
   "execution_count": null,
   "outputs": []
  },
  {
   "metadata": {},
   "cell_type": "code",
   "source": "",
   "id": "eba4cc62091e8a31",
   "execution_count": null,
   "outputs": []
  },
  {
   "metadata": {},
   "cell_type": "code",
   "source": "",
   "id": "22310dc722eda42a",
   "execution_count": null,
   "outputs": []
  },
  {
   "metadata": {},
   "cell_type": "code",
   "source": "",
   "id": "c1101bf787201d9e",
   "execution_count": null,
   "outputs": []
  },
  {
   "metadata": {},
   "cell_type": "code",
   "source": "",
   "id": "6b10609ca5255aaa",
   "execution_count": null,
   "outputs": []
  },
  {
   "metadata": {},
   "cell_type": "code",
   "source": [
    "da_name = 'Deep_Coral'\n",
    "model_path = os.path.join(project_root(), 'results', 'adatime', f'{da_name}',\n",
    "                              'pretrain_finetune', f'{da_name}_{da_name}_gtn', '0_to_1_run_0',\n",
    "                              'checkpoint.pt')\n",
    "checkpoint = torch.load(model_path)\n"
   ],
   "id": "f807d74a47215e6e",
   "execution_count": null,
   "outputs": []
  },
  {
   "metadata": {},
   "cell_type": "code",
   "source": [
    "\n",
    "def initialize_algorithm(da_method, backbone, configs, device='cuda'):\n",
    "\n",
    "    # get algorithm class\n",
    "    algorithm_class = get_algorithm_class(da_method)\n",
    "    backbone_fe = get_backbone_class(backbone)\n",
    "\n",
    "    # Initilaize the algorithm\n",
    "    algorithm = algorithm_class(backbone_fe, configs, device)\n",
    "    algorithm.to(device)\n",
    "\n",
    "    return algorithm\n"
   ],
   "id": "42a5377f5998f97f",
   "execution_count": null,
   "outputs": []
  },
  {
   "metadata": {},
   "cell_type": "code",
   "source": "# original_model = initialize_algorithm('Deep_Coral', 'GTN', Config())",
   "id": "6fec6612613f17ac",
   "execution_count": null,
   "outputs": []
  },
  {
   "metadata": {},
   "cell_type": "code",
   "source": "",
   "id": "49e190199d752816",
   "execution_count": null,
   "outputs": []
  },
  {
   "metadata": {},
   "cell_type": "code",
   "source": [
    "from models.adatime.da.models import GTN\n",
    "from models.adatime.da.models import classifier\n",
    "\n",
    "import torch.nn as nn\n",
    "\n",
    "feature_extactor = GTN(Config())\n",
    "classifier = classifier(Config())\n",
    "\n",
    "original_model = nn.Sequential(feature_extactor, classifier)\n"
   ],
   "id": "26126e5780896e7b",
   "execution_count": null,
   "outputs": []
  },
  {
   "metadata": {},
   "cell_type": "code",
   "source": "original_model.load_state_dict(checkpoint['best'])",
   "id": "f489743f4b38b63f",
   "execution_count": null,
   "outputs": []
  },
  {
   "metadata": {},
   "cell_type": "code",
   "source": "",
   "id": "ba1104b83c371667",
   "execution_count": null,
   "outputs": []
  },
  {
   "metadata": {},
   "cell_type": "code",
   "source": "original_model",
   "id": "46445bbe21fc9b12",
   "execution_count": null,
   "outputs": []
  },
  {
   "metadata": {},
   "cell_type": "code",
   "source": "",
   "id": "21c21502187f13b6",
   "execution_count": null,
   "outputs": []
  },
  {
   "metadata": {},
   "cell_type": "code",
   "source": "",
   "id": "18eee15663e0f9d3",
   "execution_count": null,
   "outputs": []
  },
  {
   "metadata": {},
   "cell_type": "code",
   "source": "",
   "id": "6c8867f956b504bc",
   "execution_count": null,
   "outputs": []
  },
  {
   "metadata": {},
   "cell_type": "code",
   "source": "",
   "id": "91baa08b5e8f61b0",
   "execution_count": null,
   "outputs": []
  },
  {
   "metadata": {},
   "cell_type": "code",
   "source": "",
   "id": "c0dbee050505c320",
   "execution_count": null,
   "outputs": []
  }
 ],
 "metadata": {
  "kernelspec": {
   "display_name": "Python 3",
   "language": "python",
   "name": "python3"
  },
  "language_info": {
   "codemirror_mode": {
    "name": "ipython",
    "version": 2
   },
   "file_extension": ".py",
   "mimetype": "text/x-python",
   "name": "python",
   "nbconvert_exporter": "python",
   "pygments_lexer": "ipython2",
   "version": "2.7.6"
  }
 },
 "nbformat": 4,
 "nbformat_minor": 5
}
