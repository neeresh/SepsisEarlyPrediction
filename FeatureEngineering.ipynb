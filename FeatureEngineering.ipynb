{
 "cells": [
  {
   "cell_type": "code",
   "id": "initial_id",
   "metadata": {
    "collapsed": true,
    "ExecuteTime": {
     "end_time": "2024-06-13T22:51:19.961496Z",
     "start_time": "2024-06-13T22:51:19.958668Z"
    }
   },
   "source": [
    "import numpy as np\n",
    "import pandas as pd\n",
    "\n",
    "import plotly.graph_objects as go\n",
    "import matplotlib.pyplot as plt\n",
    "import seaborn as sns"
   ],
   "execution_count": 1,
   "outputs": []
  },
  {
   "metadata": {
    "ExecuteTime": {
     "end_time": "2024-06-13T22:51:22.103963Z",
     "start_time": "2024-06-13T22:51:20.053486Z"
    }
   },
   "cell_type": "code",
   "source": [
    "dataset = pd.read_pickle('data/processed/training_ffill_bfill_zeros.pickle')\n",
    "for idx, patient_data in enumerate(dataset):\n",
    "    if idx == 971:\n",
    "        break"
   ],
   "id": "27803be6dac4dd11",
   "execution_count": 2,
   "outputs": []
  },
  {
   "metadata": {
    "ExecuteTime": {
     "end_time": "2024-06-13T22:51:22.107835Z",
     "start_time": "2024-06-13T22:51:22.104977Z"
    }
   },
   "cell_type": "code",
   "source": [
    "def platelets_sofa(platelets):\n",
    "    s_score = 0\n",
    "    if platelets > 150:\n",
    "        s_score += 0\n",
    "    elif platelets >= 101 and platelets <= 150:\n",
    "        s_score += 1\n",
    "    elif platelets >= 51 and platelets <= 100:\n",
    "        s_score += 2\n",
    "    elif platelets >= 21 and platelets <= 50:\n",
    "        s_score += 3\n",
    "    elif platelets <= 20:\n",
    "        s_score += 4\n",
    "        \n",
    "    return s_score\n",
    "\n",
    "patient_data['Platelets_SOFA'] = patient_data['Platelets'].apply(platelets_sofa)"
   ],
   "id": "51e602b51512a9da",
   "execution_count": 3,
   "outputs": []
  },
  {
   "metadata": {
    "ExecuteTime": {
     "end_time": "2024-06-13T22:51:22.111103Z",
     "start_time": "2024-06-13T22:51:22.108688Z"
    }
   },
   "cell_type": "code",
   "source": [
    "def total_bilirubin_sofa(bilirubin):\n",
    "    s_score = 0\n",
    "    if bilirubin < 1.2:\n",
    "        s_score += 0\n",
    "    elif bilirubin >= 1.2 and bilirubin <= 1.9:\n",
    "        s_score += 1\n",
    "    elif bilirubin >= 2.0 and bilirubin <= 5.9:\n",
    "        s_score += 2\n",
    "    elif bilirubin >= 6 and bilirubin <= 11.9:\n",
    "        s_score += 3\n",
    "    elif bilirubin >= 12.0:\n",
    "        s_score += 4\n",
    "        \n",
    "    return s_score\n",
    "\n",
    "patient_data['Bilirubin_total_SOFA'] = patient_data['Bilirubin_total'].apply(total_bilirubin_sofa)"
   ],
   "id": "a25bea7f6f0fa8fc",
   "execution_count": 4,
   "outputs": []
  },
  {
   "metadata": {
    "ExecuteTime": {
     "end_time": "2024-06-13T22:51:22.114140Z",
     "start_time": "2024-06-13T22:51:22.112188Z"
    }
   },
   "cell_type": "code",
   "source": [
    "def map_sofa(map):\n",
    "    s_score = 0\n",
    "    if map >= 70:\n",
    "        s_score += 0\n",
    "    elif map < 70:\n",
    "        s_score += 1\n",
    "        \n",
    "    return s_score\n",
    "\n",
    "patient_data['MAP_SOFA'] = patient_data['MAP'].apply(map_sofa)"
   ],
   "id": "621ee8b01ab4b6d",
   "execution_count": 5,
   "outputs": []
  },
  {
   "metadata": {
    "ExecuteTime": {
     "end_time": "2024-06-13T22:51:22.116970Z",
     "start_time": "2024-06-13T22:51:22.114769Z"
    }
   },
   "cell_type": "code",
   "source": [
    "def sofa_score(row):\n",
    "    platelets_score = row['Platelets_SOFA']\n",
    "    bilirubin_score = row['Bilirubin_total_SOFA']\n",
    "    map_sofa = row['MAP_SOFA']\n",
    "        \n",
    "    return platelets_score + bilirubin_score + map_sofa\n",
    "\n",
    "patient_data['SOFA_score'] = patient_data.apply(sofa_score, axis=1)"
   ],
   "id": "c74698a85e883afa",
   "execution_count": 6,
   "outputs": []
  },
  {
   "metadata": {
    "ExecuteTime": {
     "end_time": "2024-06-13T22:51:22.128347Z",
     "start_time": "2024-06-13T22:51:22.117598Z"
    }
   },
   "cell_type": "code",
   "source": [
    "def detect_sofa_deterioration(data, time_window=24):\n",
    "    data['SOFA_score_diff'] = data['SOFA_score'].diff(periods=time_window)\n",
    "    data['SOFA_deterioration'] = (abs(data['SOFA_score_diff']) >= 2).astype(int)  # 2-point deterioration\n",
    "    data['SOFA_score_diff'].fillna(value=0, inplace=True)\n",
    "    return data\n",
    "\n",
    "patient_data = detect_sofa_deterioration(patient_data)"
   ],
   "id": "ee17de0fd5a80c65",
   "execution_count": 7,
   "outputs": []
  },
  {
   "metadata": {
    "ExecuteTime": {
     "end_time": "2024-06-13T22:51:22.142090Z",
     "start_time": "2024-06-13T22:51:22.129809Z"
    }
   },
   "cell_type": "code",
   "source": [
    "def sofa_indicator(row):\n",
    "    # 2+ points indicates organ dysfunction\n",
    "    platelets = row['Platelets_SOFA']\n",
    "    bilirubin_total = row['Bilirubin_total_SOFA']\n",
    "    map = row['MAP_SOFA']\n",
    "    \n",
    "    total_points = platelets + bilirubin_total + map\n",
    "    \n",
    "    q_score = 0\n",
    "    if total_points > 2:\n",
    "        q_score += 1\n",
    "    return q_score\n",
    "\n",
    "patient_data['SOFA_indicator'] = patient_data.apply(sofa_indicator, axis=1)"
   ],
   "id": "4344691944100b6",
   "execution_count": 8,
   "outputs": []
  },
  {
   "metadata": {
    "ExecuteTime": {
     "end_time": "2024-06-13T22:51:22.156420Z",
     "start_time": "2024-06-13T22:51:22.143614Z"
    }
   },
   "cell_type": "code",
   "source": "patient_data",
   "id": "41bc6c914b2941e",
   "execution_count": 9,
   "outputs": []
  },
  {
   "metadata": {
    "ExecuteTime": {
     "end_time": "2024-06-13T22:51:22.159197Z",
     "start_time": "2024-06-13T22:51:22.157056Z"
    }
   },
   "cell_type": "code",
   "source": [
    "def respiratory_rate_qsofa(respiratory_rate):\n",
    "    q_score = 0\n",
    "    if respiratory_rate >= 22.0:\n",
    "        q_score += 1\n",
    "        \n",
    "    return q_score\n",
    "\n",
    "patient_data['ResP_qSOFA'] = patient_data['Resp'].apply(respiratory_rate_qsofa)"
   ],
   "id": "fc917a454b213cbb",
   "execution_count": 10,
   "outputs": []
  },
  {
   "metadata": {
    "ExecuteTime": {
     "end_time": "2024-06-13T22:51:22.163209Z",
     "start_time": "2024-06-13T22:51:22.161181Z"
    }
   },
   "cell_type": "code",
   "source": [
    "def sbp_qsofa(sbp):\n",
    "    q_score = 0\n",
    "    if sbp < 100.0:\n",
    "        q_score += 1\n",
    "        \n",
    "    return q_score\n",
    "\n",
    "patient_data['SBP_qSOFA'] = patient_data['SBP'].apply(sbp_qsofa)"
   ],
   "id": "9b2d113d516ff2c3",
   "execution_count": 11,
   "outputs": []
  },
  {
   "metadata": {
    "ExecuteTime": {
     "end_time": "2024-06-13T22:51:22.166278Z",
     "start_time": "2024-06-13T22:51:22.163649Z"
    }
   },
   "cell_type": "code",
   "source": [
    "def q_sofa_indicator(row):\n",
    "    resp = row['ResP_qSOFA']\n",
    "    sbp = row['SBP_qSOFA']\n",
    "    q_score = 0\n",
    "    if resp > 0 and sbp > 0:\n",
    "        q_score += 1\n",
    "    return q_score\n",
    "\n",
    "patient_data['qSOFA_indicator'] = patient_data.apply(q_sofa_indicator, axis=1)"
   ],
   "id": "90e3b18421740a45",
   "execution_count": 12,
   "outputs": []
  },
  {
   "metadata": {
    "ExecuteTime": {
     "end_time": "2024-06-13T22:51:22.169262Z",
     "start_time": "2024-06-13T22:51:22.166852Z"
    }
   },
   "cell_type": "code",
   "source": [
    "def qsofa_score(row):\n",
    "    resp_score = row['ResP_qSOFA']\n",
    "    sbp_score = row['SBP_qSOFA']\n",
    "        \n",
    "    return sbp_score + resp_score\n",
    "\n",
    "patient_data['qSOFA_score'] = patient_data.apply(qsofa_score, axis=1)"
   ],
   "id": "bb2ae338dd6def78",
   "execution_count": 13,
   "outputs": []
  },
  {
   "metadata": {
    "ExecuteTime": {
     "end_time": "2024-06-13T22:51:22.172210Z",
     "start_time": "2024-06-13T22:51:22.169682Z"
    }
   },
   "cell_type": "code",
   "source": [
    "def detect_qsofa_change(data, time_window=24):\n",
    "    data['qSOFA_score_diff'] = data['qSOFA_score'].diff(periods=time_window)\n",
    "    data['qSOFA_deterioration'] = (abs(data['qSOFA_score_diff']) >= 2).astype(int)  # 2-point deterioration\n",
    "    data['qSOFA_score_diff'].fillna(value=0, inplace=True)\n",
    "    \n",
    "    return data\n",
    "\n",
    "patient_data = detect_qsofa_change(patient_data)"
   ],
   "id": "1069c644ae037f34",
   "execution_count": 14,
   "outputs": []
  },
  {
   "metadata": {
    "ExecuteTime": {
     "end_time": "2024-06-13T22:51:22.183749Z",
     "start_time": "2024-06-13T22:51:22.172821Z"
    }
   },
   "cell_type": "code",
   "source": "patient_data",
   "id": "690c9aa852172a9f",
   "execution_count": 15,
   "outputs": []
  },
  {
   "metadata": {
    "ExecuteTime": {
     "end_time": "2024-06-13T22:51:22.185326Z",
     "start_time": "2024-06-13T22:51:22.184197Z"
    }
   },
   "cell_type": "code",
   "source": "",
   "id": "b20f8fac89047f0f",
   "execution_count": 15,
   "outputs": []
  },
  {
   "metadata": {
    "ExecuteTime": {
     "end_time": "2024-06-13T22:51:22.188518Z",
     "start_time": "2024-06-13T22:51:22.185774Z"
    }
   },
   "cell_type": "code",
   "source": [
    "def mortality_sofa(row):\n",
    "    # 2+ points indicates organ dysfunction\n",
    "    platelets = row['Platelets_SOFA']\n",
    "    bilirubin_total = row['Bilirubin_total_SOFA']\n",
    "    map = row['MAP_SOFA']\n",
    "    \n",
    "    total_points = platelets + bilirubin_total + map\n",
    "    \n",
    "    mortality_rate = 0\n",
    "    if total_points > 1 and total_points <= 9:\n",
    "        mortality_rate += 0.30\n",
    "    elif total_points >= 10 and total_points < 14:\n",
    "        mortality_rate += 0.50\n",
    "    elif total_points >= 14:\n",
    "        mortality_rate += 0.95\n",
    "        \n",
    "    return mortality_rate\n",
    "\n",
    "patient_data['Mortality_sofa'] = patient_data.apply(mortality_sofa, axis=1)"
   ],
   "id": "935bb771ff22441d",
   "execution_count": 16,
   "outputs": []
  },
  {
   "metadata": {
    "ExecuteTime": {
     "end_time": "2024-06-13T22:51:22.200345Z",
     "start_time": "2024-06-13T22:51:22.189108Z"
    }
   },
   "cell_type": "code",
   "source": "patient_data",
   "id": "6c3eb7f8ad2ca153",
   "execution_count": 17,
   "outputs": []
  },
  {
   "metadata": {
    "ExecuteTime": {
     "end_time": "2024-06-13T22:51:22.203226Z",
     "start_time": "2024-06-13T22:51:22.200971Z"
    }
   },
   "cell_type": "code",
   "source": [
    "def temp_sirs(temp):\n",
    "    sirs_score = 0\n",
    "    if temp < 36 or temp >= 38:\n",
    "        sirs_score += 1\n",
    "        \n",
    "    return sirs_score\n",
    "\n",
    "patient_data['Temp_sirs'] = patient_data['Temp'].apply(temp_sirs)"
   ],
   "id": "e73e1e0c00bbc780",
   "execution_count": 18,
   "outputs": []
  },
  {
   "metadata": {
    "ExecuteTime": {
     "end_time": "2024-06-13T22:51:22.205756Z",
     "start_time": "2024-06-13T22:51:22.203690Z"
    }
   },
   "cell_type": "code",
   "source": [
    "def heart_rate_sirs(heart_rate):\n",
    "    sirs_score = 0\n",
    "    if heart_rate > 90:\n",
    "        sirs_score += 1\n",
    "        \n",
    "    return sirs_score\n",
    "\n",
    "patient_data['HR_sirs'] = patient_data['HR'].apply(heart_rate_sirs)"
   ],
   "id": "28a13eca6611e621",
   "execution_count": 19,
   "outputs": []
  },
  {
   "metadata": {
    "ExecuteTime": {
     "end_time": "2024-06-13T22:51:22.208282Z",
     "start_time": "2024-06-13T22:51:22.206307Z"
    }
   },
   "cell_type": "code",
   "source": [
    "def resp_sirs(resp):\n",
    "    sirs_score = 0\n",
    "    if resp > 20:\n",
    "        sirs_score += 1\n",
    "        \n",
    "    return sirs_score\n",
    "\n",
    "patient_data['Resp_sirs'] = patient_data['Resp'].apply(resp_sirs)"
   ],
   "id": "762518e39110df1a",
   "execution_count": 20,
   "outputs": []
  },
  {
   "metadata": {
    "ExecuteTime": {
     "end_time": "2024-06-13T22:51:22.210659Z",
     "start_time": "2024-06-13T22:51:22.208804Z"
    }
   },
   "cell_type": "code",
   "source": [
    "def paco2_sirs(paco2):\n",
    "    sirs_score = 0\n",
    "    if paco2 < 32:\n",
    "        sirs_score += 1\n",
    "        \n",
    "    return sirs_score\n",
    "\n",
    "patient_data['paco2_sirs'] = patient_data['PaCO2'].apply(resp_sirs)"
   ],
   "id": "f5582e522c76cd10",
   "execution_count": 21,
   "outputs": []
  },
  {
   "metadata": {
    "ExecuteTime": {
     "end_time": "2024-06-13T22:51:22.213108Z",
     "start_time": "2024-06-13T22:51:22.211214Z"
    }
   },
   "cell_type": "code",
   "source": [
    "def wbc_sirs(wbc):\n",
    "    sirs_score = 0\n",
    "    if wbc*1000 < 4000 or wbc*1000 > 12000:\n",
    "        sirs_score += 1\n",
    "    return sirs_score\n",
    "\n",
    "patient_data['wbc_sirs'] = patient_data['WBC'].apply(wbc_sirs)"
   ],
   "id": "b9070c2b334b5a22",
   "execution_count": 22,
   "outputs": []
  },
  {
   "metadata": {
    "ExecuteTime": {
     "end_time": "2024-06-13T22:51:22.224122Z",
     "start_time": "2024-06-13T22:51:22.213674Z"
    }
   },
   "cell_type": "code",
   "source": "patient_data",
   "id": "122ba413c47d8be1",
   "execution_count": 23,
   "outputs": []
  },
  {
   "metadata": {
    "ExecuteTime": {
     "end_time": "2024-06-13T22:51:22.225997Z",
     "start_time": "2024-06-13T22:51:22.224700Z"
    }
   },
   "cell_type": "code",
   "source": "",
   "id": "6f8f364f29bb0e5b",
   "execution_count": 23,
   "outputs": []
  },
  {
   "metadata": {
    "ExecuteTime": {
     "end_time": "2024-06-13T22:51:22.233327Z",
     "start_time": "2024-06-13T22:51:22.226504Z"
    }
   },
   "cell_type": "code",
   "source": [
    "def t_suspicion(patient_data):\n",
    "    \"\"\"\n",
    "    Since we don't have information about IV antibiotics and blood cultures, \n",
    "    we are is considering that patient have infection if any 2 SIRS criteria are met\n",
    "    \"\"\"\n",
    "    patient_data['infection_proxy'] = (patient_data[['Temp_sirs', 'HR_sirs', 'Resp_sirs']].eq(1).sum(axis=1) >= 2).astype(int)\n",
    "\n",
    "    # t_suspicion is the first hour of (ICULOS) where infection proxy is positive at time t\n",
    "    patient_data['t_suspicion'] = patient_data.groupby(['PatientID'])['ICULOS'].transform(\n",
    "        lambda x: x[patient_data['infection_proxy'] == 1].min() if (patient_data['infection_proxy'] == 1).any() else 0)\n",
    "\n",
    "    return patient_data\n",
    "\n",
    "def t_sofa(data):\n",
    "    \"\"\"\n",
    "    Two-point deterioration in SOFA score at time t but within a 24-hour period.\n",
    "    \"\"\"\n",
    "    data['t_sofa'] = data['SOFA_score_diff'].where((abs(data['SOFA_score_diff']) >= 2) & (data['ICULOS'] <= 24), other=0)\n",
    "    return data\n",
    "\n",
    "def t_sepsis(row):\n",
    "    if pd.isna(row['t_suspicion']) or row['t_suspicion'] == 0 or row['t_sofa'] == 0:\n",
    "        return 0\n",
    "    if row['t_suspicion'] - 24 <= row['t_sofa'] <= row['t_suspicion'] + 12:\n",
    "        return min(row['t_suspicion'], row['t_sofa'])\n",
    "\n",
    "patient_data = t_suspicion(patient_data)\n",
    "patient_data = t_sofa(patient_data)\n",
    "patient_data['t_sepsis'] = patient_data.apply(t_sepsis, axis=1)"
   ],
   "id": "fa22fd9478dddabd",
   "execution_count": 24,
   "outputs": []
  },
  {
   "metadata": {
    "ExecuteTime": {
     "end_time": "2024-06-13T22:51:22.238919Z",
     "start_time": "2024-06-13T22:51:22.234088Z"
    }
   },
   "cell_type": "code",
   "source": "patient_data[['SepsisLabel', 'ICULOS', 'SOFA_score', 'SOFA_score_diff', 't_suspicion', 't_sofa', 't_sepsis']]",
   "id": "d3f1300e4960ed88",
   "execution_count": 25,
   "outputs": []
  },
  {
   "metadata": {
    "ExecuteTime": {
     "end_time": "2024-06-13T22:51:22.661542Z",
     "start_time": "2024-06-13T22:51:22.239531Z"
    }
   },
   "cell_type": "code",
   "source": [
    "# Calculate point-biserial correlation coefficients\n",
    "correlation_matrix = patient_data.corr()\n",
    "\n",
    "# Plotting the correlation matrix\n",
    "plt.figure(figsize=(20, 10))\n",
    "sns.heatmap(correlation_matrix, cmap='coolwarm')\n",
    "plt.title('Correlation Plot')\n",
    "plt.show()"
   ],
   "id": "d4b6d547b3bc094b",
   "execution_count": 26,
   "outputs": []
  },
  {
   "metadata": {
    "ExecuteTime": {
     "end_time": "2024-06-13T22:51:22.668139Z",
     "start_time": "2024-06-13T22:51:22.666544Z"
    }
   },
   "cell_type": "code",
   "source": "",
   "id": "ceb5b5d79e481e24",
   "execution_count": 26,
   "outputs": []
  },
  {
   "metadata": {
    "ExecuteTime": {
     "end_time": "2024-06-13T22:51:22.670228Z",
     "start_time": "2024-06-13T22:51:22.668813Z"
    }
   },
   "cell_type": "code",
   "source": "",
   "id": "2fc13c39845553e7",
   "execution_count": 26,
   "outputs": []
  },
  {
   "metadata": {
    "ExecuteTime": {
     "end_time": "2024-06-13T22:51:22.672110Z",
     "start_time": "2024-06-13T22:51:22.670837Z"
    }
   },
   "cell_type": "code",
   "source": "",
   "id": "8e8711c1efb6a3a5",
   "execution_count": 26,
   "outputs": []
  },
  {
   "metadata": {
    "ExecuteTime": {
     "end_time": "2024-06-13T22:51:22.674010Z",
     "start_time": "2024-06-13T22:51:22.672830Z"
    }
   },
   "cell_type": "code",
   "source": "",
   "id": "3e3b7723f8e523c3",
   "execution_count": 26,
   "outputs": []
  },
  {
   "metadata": {
    "ExecuteTime": {
     "end_time": "2024-06-13T22:51:22.676306Z",
     "start_time": "2024-06-13T22:51:22.674539Z"
    }
   },
   "cell_type": "code",
   "source": "-",
   "id": "53753cbc7e874421",
   "execution_count": 27,
   "outputs": []
  },
  {
   "metadata": {},
   "cell_type": "code",
   "source": [
    "# PaO2 or oxygen pressure, is the least helpful to answer the question about oxygen adequacy in the blood.\n",
    "# Note that SaO2 alone doesn't reveal how much oxygen is in the blood; for that we also need to know the hemoglobin content"
   ],
   "id": "2516605dd88a156e",
   "execution_count": null,
   "outputs": []
  },
  {
   "metadata": {},
   "cell_type": "markdown",
   "source": [
    "- **Alternative indices of oxygenation include (https://litfl.com/pao2-fio2-ratio/):**<br>\n",
    "- **Ratio of SaO2/FiO2**\n",
    "- \n"
   ],
   "id": "40b7949a95248a9"
  },
  {
   "metadata": {},
   "cell_type": "code",
   "source": [
    "# # https://litfl.com/a-a-gradient/\n",
    "# P_atm, P_h2o = 760, 47  # mmHg, mmHg\n",
    "# PiO2 = (P_atm - P_h2o) * FiO2  # FiO2 from dataset (percent/fraction)\n",
    "# PAO2 = PiO2 - (PaCO2 / 0.8)  # PaCO2 from dataset (mmHg)\n",
    "# \n",
    "# PaO2 = 500 * FiO2  # FiO2 from dataset (percent/fraction) [https://litfl.com/pao2-fio2-ratio/]\n",
    "# print(PAO2, PaO2)"
   ],
   "id": "37b6baf3eaa357cd",
   "execution_count": null,
   "outputs": []
  },
  {
   "metadata": {},
   "cell_type": "code",
   "source": [
    "# Aa_gradient = PAO2 - PaO2  \n",
    "# print(Aa_gradient)"
   ],
   "id": "83d00e61ab008870",
   "execution_count": null,
   "outputs": []
  },
  {
   "metadata": {},
   "cell_type": "code",
   "source": "# oxygenation_index = (FiO2 * MAP) / PaO2  # FiO2 and MAP from dataset.",
   "id": "c00c17dc4eee3b66",
   "execution_count": null,
   "outputs": []
  },
  {
   "metadata": {},
   "cell_type": "code",
   "source": "# aA_ratio = PaO2 / PAO2",
   "id": "757e03590f7a7e06",
   "execution_count": null,
   "outputs": []
  },
  {
   "metadata": {},
   "cell_type": "code",
   "source": "# respiratory_index = Aa_gradient / PaO2",
   "id": "b34f3d01c0322534",
   "execution_count": null,
   "outputs": []
  },
  {
   "metadata": {},
   "cell_type": "code",
   "source": "# dataset.columns.sort_values()",
   "id": "1eaab1cdb95c2e48",
   "execution_count": null,
   "outputs": []
  },
  {
   "metadata": {},
   "cell_type": "code",
   "source": "# train_data = pd.read_pickle(\"data/processed/training_ffill_bfill_zeros.pickle\")",
   "id": "470372a54238e4fd",
   "execution_count": null,
   "outputs": []
  },
  {
   "metadata": {},
   "cell_type": "code",
   "source": [
    "# for idx, p_data in enumerate(train_data):\n",
    "#     if idx == 8:\n",
    "#         patient_data = p_data\n",
    "#         break\n",
    "#     else:\n",
    "#         pass"
   ],
   "id": "607b92e7a530330e",
   "execution_count": null,
   "outputs": []
  },
  {
   "metadata": {},
   "cell_type": "code",
   "source": [
    "# def estimate_PaO2(data):\n",
    "#     \"\"\"\n",
    "#     Reference: https://pubmed.ncbi.nlm.nih.gov/31652430/\n",
    "#     if sepsis == 0, then replace 0's with random percent from 95-99 (normal conditions)\n",
    "#     if sepsis == 1, then replace 0's with random percent from 90-92 (ill-conditions)\n",
    "#     \"\"\"\n",
    "#     data[data['SaO2']==0]['SaO2'] == 0\n",
    "#     return (23400/pow(1/data['SaO2'], -0.99))**(1/3)\n",
    "# \n",
    "# def add_oxygenation_features(data):\n",
    "#     data['sf_ratio'] = data['SaO2']/data['FiO2']\n",
    "#     \n",
    "#     # https://litfl.com/a-a-gradient/\n",
    "#     P_atm, P_h2o = 760, 47  # mmHg, mmHg\n",
    "#     data['PiO2'] = (P_atm - P_h2o) * data['FiO2']  # FiO2 from dataset (percent/fraction)\n",
    "#     \n",
    "#     data['PAO2'] = data['PiO2'] - (data['PaCO2'] / 0.8)  # PaCO2 from dataset (mmHg)\n",
    "#     # PaO2 = 500 * data['FiO2']  # FiO2 from dataset (percent/fraction) [https://litfl.com/pao2-fio2-ratio/]\n",
    "#     data['PaO2'] = estimate_PaO2(data)\n",
    "#      \n",
    "      # Aa_gradient: Are the lungs transferring oxygen properly from the atmosphere to the pulmonary circulation?\n",
    "#     data['Aa_gradient'] = data['PAO2'] - data['PAO2'] \n",
    "#     data['oxygenation_index'] = (data['FiO2'] * data['MAP']) / data['PaO2']  # FiO2 and MAP from dataset.\n",
    "#     data['Aa_ratio'] = data['PaO2'] / data['PAO2']\n",
    "#     data['respiratory_index'] = data['Aa_gradient'] / data['PaO2']\n",
    "#     \n",
    "#     data['pf_ratio'] = data['PaO2'] / (data['FiO2'])\n",
    "#     \n",
    "#     return data\n",
    "# \n",
    "# temp_data = add_oxygenation_features(patient_data)"
   ],
   "id": "eb8611b10cbe2cac",
   "execution_count": null,
   "outputs": []
  },
  {
   "metadata": {},
   "cell_type": "code",
   "source": "# temp_data",
   "id": "fb1c2cdd0699ea0b",
   "execution_count": null,
   "outputs": []
  },
  {
   "metadata": {},
   "cell_type": "code",
   "source": "# temp_data['PaO2'] ",
   "id": "dc066f7daa1f97a9",
   "execution_count": null,
   "outputs": []
  },
  {
   "metadata": {},
   "cell_type": "code",
   "source": [
    "# def estimate_PaO2(data):\n",
    "#     \"\"\"\n",
    "#     Estimate PaO2 from SaO2 using the modified imputation equation from Gadrey et al. (2019).\n",
    "#     Reference: https://pubmed.ncbi.nlm.nih.gov/31652430/\n",
    "#     \"\"\"\n",
    "#     \n",
    "#     SaO2 = data['SaO2']\n",
    "#     PaO2 = (23400 / ((1 / SaO2) ** -0.99)) ** (1/3)\n",
    "#     \n",
    "#     return PaO2\n",
    "# \n",
    "# def add_oxygenation_features(data):\n",
    "#     # data['SaO2'] = data.apply(lambda row: np.random.uniform(95, 99) if row['SepsisLabel'] == 0 and row['SaO2'] == 0 else row['SaO2'], axis=1)\n",
    "#     # data['SaO2'] = data.apply(lambda row: np.random.uniform(89, 92) if row['SepsisLabel'] == 1 and row['SaO2'] == 0 else row['SaO2'], axis=1)\n",
    "#     \n",
    "#     data['sf_ratio'] = data['SaO2'] / data['FiO2']\n",
    "#     \n",
    "#     # Constants\n",
    "#     P_atm = 760  # Atmospheric pressure in mmHg\n",
    "#     P_h2o = 47  # Water vapor pressure in mmHg\n",
    "#     \n",
    "#     # Calculate PiO2\n",
    "#     data['PiO2'] = (P_atm - P_h2o) * data['FiO2']\n",
    "#     \n",
    "#     # Calculate PAO2\n",
    "#     data['PAO2'] = data['PiO2'] - (data['PaCO2'] / 0.8)\n",
    "#     \n",
    "#     # Estimate PaO2\n",
    "#     data['PaO2'] = estimate_PaO2(data)\n",
    "#     # data['PaO2'] = 500 * data['FiO2']\n",
    "#     \n",
    "#     # Calculate A-a gradient\n",
    "#     data['Aa_gradient'] = data['PAO2'] - data['PaO2']\n",
    "#     \n",
    "#     # Calculate oxygenation index\n",
    "#     data['oxygenation_index'] = (data['FiO2'] * data['MAP']) / data['PaO2']\n",
    "#     \n",
    "#     # Calculate Aa_ratio\n",
    "#     data['Aa_ratio'] = data['PaO2'] / data['PAO2']\n",
    "#     \n",
    "#     # Calculate respiratory index\n",
    "#     data['respiratory_index'] = data['Aa_gradient'] / data['PaO2']\n",
    "#     \n",
    "#     # Calculate PF ratio\n",
    "#     data['pf_ratio'] = data['PaO2'] / data['FiO2']\n",
    "#     \n",
    "#     return data"
   ],
   "id": "b222b6572d7adb1c",
   "execution_count": null,
   "outputs": []
  },
  {
   "metadata": {},
   "cell_type": "code",
   "source": "# add_oxygenation_features(patient_data)",
   "id": "8aac6e61f756909a",
   "execution_count": null,
   "outputs": []
  },
  {
   "metadata": {},
   "cell_type": "code",
   "source": "",
   "id": "63686927c0897b7d",
   "execution_count": null,
   "outputs": []
  },
  {
   "metadata": {},
   "cell_type": "code",
   "source": "",
   "id": "7f31b7159b9f388d",
   "execution_count": null,
   "outputs": []
  },
  {
   "metadata": {},
   "cell_type": "code",
   "source": "",
   "id": "da0783510c319a54",
   "execution_count": null,
   "outputs": []
  },
  {
   "metadata": {},
   "cell_type": "code",
   "source": "",
   "id": "5ee8acf5c5d31856",
   "execution_count": null,
   "outputs": []
  }
 ],
 "metadata": {
  "kernelspec": {
   "display_name": "Python 3",
   "language": "python",
   "name": "python3"
  },
  "language_info": {
   "codemirror_mode": {
    "name": "ipython",
    "version": 2
   },
   "file_extension": ".py",
   "mimetype": "text/x-python",
   "name": "python",
   "nbconvert_exporter": "python",
   "pygments_lexer": "ipython2",
   "version": "2.7.6"
  }
 },
 "nbformat": 4,
 "nbformat_minor": 5
}
