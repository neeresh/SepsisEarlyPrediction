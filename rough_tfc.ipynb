{
 "cells": [
  {
   "metadata": {
    "ExecuteTime": {
     "end_time": "2024-09-22T21:05:46.255996Z",
     "start_time": "2024-09-22T21:05:46.254220Z"
    }
   },
   "cell_type": "code",
   "source": "",
   "id": "2ea51b6246305b43",
   "outputs": [],
   "execution_count": 1
  },
  {
   "metadata": {
    "ExecuteTime": {
     "end_time": "2024-09-22T21:07:54.611358Z",
     "start_time": "2024-09-22T21:07:54.609069Z"
    }
   },
   "cell_type": "code",
   "source": [
    "from utils.path_utils import project_root\n",
    "import os\n",
    "\n",
    "import torch\n",
    "\n",
    "import matplotlib.pyplot as plt\n"
   ],
   "id": "edaf7504ff581c53",
   "outputs": [],
   "execution_count": 19
  },
  {
   "metadata": {
    "ExecuteTime": {
     "end_time": "2024-09-22T21:11:06.937126Z",
     "start_time": "2024-09-22T21:11:06.935506Z"
    }
   },
   "cell_type": "code",
   "source": "",
   "id": "28c5c8ea45ba037d",
   "outputs": [],
   "execution_count": 39
  },
  {
   "metadata": {
    "ExecuteTime": {
     "end_time": "2024-09-22T21:11:07.058267Z",
     "start_time": "2024-09-22T21:11:07.056686Z"
    }
   },
   "cell_type": "code",
   "source": "",
   "id": "fec5ff9e2d751b3e",
   "outputs": [],
   "execution_count": 39
  },
  {
   "metadata": {
    "ExecuteTime": {
     "end_time": "2024-09-22T21:11:07.175424Z",
     "start_time": "2024-09-22T21:11:07.173546Z"
    }
   },
   "cell_type": "code",
   "source": "",
   "id": "2dd6b9fde21a7da4",
   "outputs": [],
   "execution_count": 39
  },
  {
   "metadata": {
    "ExecuteTime": {
     "end_time": "2024-09-22T21:11:07.274517Z",
     "start_time": "2024-09-22T21:11:07.272913Z"
    }
   },
   "cell_type": "code",
   "source": "",
   "id": "4b8ef7ae91fec19a",
   "outputs": [],
   "execution_count": 39
  },
  {
   "metadata": {},
   "cell_type": "code",
   "outputs": [],
   "execution_count": null,
   "source": "",
   "id": "e808e77548d5164c"
  }
 ],
 "metadata": {
  "kernelspec": {
   "display_name": "Python 3",
   "language": "python",
   "name": "python3"
  },
  "language_info": {
   "codemirror_mode": {
    "name": "ipython",
    "version": 2
   },
   "file_extension": ".py",
   "mimetype": "text/x-python",
   "name": "python",
   "nbconvert_exporter": "python",
   "pygments_lexer": "ipython2",
   "version": "2.7.6"
  }
 },
 "nbformat": 4,
 "nbformat_minor": 5
}
